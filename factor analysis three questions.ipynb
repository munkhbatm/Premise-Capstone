{
 "cells": [
  {
   "cell_type": "code",
   "execution_count": null,
   "metadata": {},
   "outputs": [],
   "source": [
    "import numpy as np \n",
    "import pandas as pd \n",
    "from datetime import datetime, date, time\n",
    "from datetime import timedelta\n",
    "import matplotlib as mpl\n",
    "import matplotlib.pyplot as plt\n",
    "plt.style.use(\"fivethirtyeight\")\n",
    "%matplotlib inline\n",
    "import seaborn as sns\n",
    "import plotly.graph_objects as go\n",
    "import plotly.express as px\n",
    "\n",
    "# set float display default\n",
    "pd.set_option('display.float_format', lambda x: '%.2f' % x)\n",
    "\n",
    "pd.set_option('display.max_rows', 100)\n",
    "pd.set_option('display.max_columns', 100)"
   ]
  },
  {
   "cell_type": "code",
   "execution_count": null,
   "metadata": {},
   "outputs": [],
   "source": [
    "dataset = pd.read_csv('covid-19.csv')"
   ]
  },
  {
   "cell_type": "code",
   "execution_count": null,
   "metadata": {},
   "outputs": [],
   "source": [
    "data_Phi = dataset[dataset['L0_name']=='Philippines']"
   ]
  },
  {
   "cell_type": "code",
   "execution_count": null,
   "metadata": {},
   "outputs": [],
   "source": [
    "data_Phi['batch_date']=pd.to_datetime(data_Phi['batch_date'])"
   ]
  },
  {
   "cell_type": "code",
   "execution_count": null,
   "metadata": {},
   "outputs": [],
   "source": [
    "scale_1 = {'Very difficult':5,\n",
    "          'Difficult':4,\n",
    "          'Neither difficult nor easy':3,\n",
    "          'Easy':2,\n",
    "          'Very easy':1}\n",
    "\n",
    "scale_2 = {'Major effect':5,\n",
    "          'Moderate effect':4,\n",
    "          'Unsure':3,\n",
    "          'Minor effect':2,\n",
    "          'No effect':1}\n",
    "\n",
    "scale_3 = {'Not at all confident':4,\n",
    "           'Not very confident':3,\n",
    "           'Somewhat confident':2,\n",
    "           'Very confident':1,\n",
    "           'did not exist':0}\n"
   ]
  },
  {
   "cell_type": "code",
   "execution_count": null,
   "metadata": {},
   "outputs": [],
   "source": [
    "# scale_1\n",
    "data_Phi['how_difficult_has_it_been_for_you_to_find_groceries_and_other_items']=data_Phi['how_difficult_has_it_been_for_you_to_find_groceries_and_other_items'].replace(scale_3)\n",
    "\n",
    "# scale_2\n",
    "data_Phi['have_you_or_a_family_member_been_affected_by_price_gouging_for_goods_and_services_related_to_the_coronavirus_covid_19']=data_Phi['have_you_or_a_family_member_been_affected_by_price_gouging_for_goods_and_services_related_to_the_coronavirus_covid_19'].replace(scale_4)\n",
    "\n",
    "# scale_3\n",
    "data_Phi['how_confident_are_you_that_you_are_immune_should_a_\"second_wave\"_emerge_in_the_future']=data_Phi['how_confident_are_you_that_you_are_immune_should_a_\"second_wave\"_emerge_in_the_future'].replace(scale_7)\n",
    "\n"
   ]
  }
 ],
 "metadata": {
  "kernelspec": {
   "display_name": "Python 3",
   "language": "python",
   "name": "python3"
  },
  "language_info": {
   "codemirror_mode": {
    "name": "ipython",
    "version": 3
   },
   "file_extension": ".py",
   "mimetype": "text/x-python",
   "name": "python",
   "nbconvert_exporter": "python",
   "pygments_lexer": "ipython3",
   "version": "3.8.5"
  }
 },
 "nbformat": 4,
 "nbformat_minor": 4
}
