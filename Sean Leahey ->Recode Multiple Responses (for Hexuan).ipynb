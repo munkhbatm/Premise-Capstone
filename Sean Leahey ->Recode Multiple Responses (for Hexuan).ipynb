{
 "cells": [
  {
   "cell_type": "code",
   "execution_count": 1,
   "metadata": {},
   "outputs": [],
   "source": [
    "import numpy as np \n",
    "import pandas as pd \n",
    "from datetime import datetime, date, time\n",
    "from datetime import timedelta\n",
    "import matplotlib as mpl\n",
    "import matplotlib.pyplot as plt\n",
    "plt.style.use(\"fivethirtyeight\")\n",
    "%matplotlib inline\n",
    "import seaborn as sns\n",
    "\n",
    "\n",
    "# set float display default\n",
    "pd.set_option('display.float_format', lambda x: '%.2f' % x)\n",
    "\n",
    "pd.set_option('display.max_rows', 100)\n",
    "pd.set_option('display.max_columns', 100)"
   ]
  },
  {
   "cell_type": "code",
   "execution_count": null,
   "metadata": {},
   "outputs": [],
   "source": [
    "df = pd.read_csv(\"covid_with_factors.csv\")"
   ]
  },
  {
   "cell_type": "code",
   "execution_count": null,
   "metadata": {},
   "outputs": [],
   "source": [
    "df.head()"
   ]
  },
  {
   "cell_type": "code",
   "execution_count": null,
   "metadata": {},
   "outputs": [],
   "source": [
    "column_values = df.apply(lambda x: len(x.unique()))\n",
    "column_values[column_values >10]"
   ]
  },
  {
   "cell_type": "code",
   "execution_count": null,
   "metadata": {},
   "outputs": [],
   "source": [
    "mult_responses = column_values[column_values >10].loc[\"what_kind_of_locations_or_facilities_are_offering_testing_in_your_city\":\"which_media_outlets_do_you_think_only_report_on_the_potential_disadvantages_of_a_covid_19_vaccine\"]\n",
    "print(mult_responses)"
   ]
  },
  {
   "cell_type": "code",
   "execution_count": null,
   "metadata": {},
   "outputs": [],
   "source": [
    "df['what_kind_of_locations_or_facilities_are_offering_testing_in_your_city'].value_counts()\n",
    "#.sort_values(ascending=False)\n",
    "\n"
   ]
  },
  {
   "cell_type": "code",
   "execution_count": null,
   "metadata": {},
   "outputs": [],
   "source": [
    "what_kind_of_locations_or_facilities_are_offering_testing_in_your_city?\n",
    "My primary care physicians office\n",
    "Drive-up testing facility\n",
    "Local health department\n",
    "Urgent care clinic\n",
    "Pharmacy\n",
    "Emergency room\n",
    "Hospital\n",
    "Other"
   ]
  },
  {
   "cell_type": "code",
   "execution_count": null,
   "metadata": {},
   "outputs": [],
   "source": [
    "df['locations_offering_testing_in_your_city_My_primary_care_physicians_office'] = df[\"what_kind_of_locations_or_facilities_are_offering_testing_in_your_city\"].str.contains(\"My primary care physician\", regex=False, na=False).astype(int)\n",
    "#this is changing the name of the column in the data frame from what kind of locations to my primary care physicians office \n"
   ]
  },
  {
   "cell_type": "code",
   "execution_count": null,
   "metadata": {},
   "outputs": [],
   "source": [
    "df['locations_offering_testing_in_your_city_primary_care']=df[\"what_kind_of_locations_or_facilities_are_offering_testing_in_your_city\"].str.contains(\"primary care\", regex=False, na=False).astype(int)\n",
    "df['locations_offering_testing_in_your_city_Drive_up_testing_facility'] = df[\"what_kind_of_locations_or_facilities_are_offering_testing_in_your_city\"].str.contains(\"Drive-up testing facility\", regex=False, na=False).astype(int)\n",
    "df['locations_offering_testing_in_your_city_Local_health_department'] = df[\"what_kind_of_locations_or_facilities_are_offering_testing_in_your_city\"].str.contains(\"Local health department\", regex=False, na=False).astype(int)\n",
    "df['locations_offering_testing_in_your_city_Urgent_care_clinic'] = df[\"what_kind_of_locations_or_facilities_are_offering_testing_in_your_city\"].str.contains(\"Urgent care clinic\", regex=False, na=False).astype(int)\n",
    "df['locations_offering_testing_in_your_city_Pharmacy'] = df[\"what_kind_of_locations_or_facilities_are_offering_testing_in_your_city\"].str.contains(\"Pharmacy\", regex=False, na=False).astype(int)\n",
    "df['locations_offering_testing_in_your_city_Emergency_room'] = df[\"what_kind_of_locations_or_facilities_are_offering_testing_in_your_city\"].str.contains(\"Emergency room\", regex=False, na=False).astype(int)\n",
    "df['locations_offering_testing_in_your_city_Hospital'] = df[\"what_kind_of_locations_or_facilities_are_offering_testing_in_your_city\"].str.contains(\"Hospital\", regex=False, na=False).astype(int)\n",
    "df['locations_offering_testing_in_your_city_Other'] = df[\"what_kind_of_locations_or_facilities_are_offering_testing_in_your_city\"].str.contains(\"Other\", regex=False, na=False).astype(int)"
   ]
  },
  {
   "cell_type": "code",
   "execution_count": null,
   "metadata": {},
   "outputs": [],
   "source": [
    "check_cols = [col for col in df.columns if 'offering_testing_in_your_city' in col]\n",
    "print(check_cols)"
   ]
  },
  {
   "cell_type": "code",
   "execution_count": null,
   "metadata": {},
   "outputs": [],
   "source": [
    "df[check_cols][~df[\"what_kind_of_locations_or_facilities_are_offering_testing_in_your_city\"].isnull()]"
   ]
  },
  {
   "cell_type": "code",
   "execution_count": null,
   "metadata": {},
   "outputs": [],
   "source": [
    "df_mean = df[['locations_offering_testing_in_your_city_primary_care', 'locations_offering_testing_in_your_city_Drive_up_testing_facility','locations_offering_testing_in_your_city_Local_health_department','locations_offering_testing_in_your_city_Urgent_care_clinic','locations_offering_testing_in_your_city_Pharmacy','locations_offering_testing_in_your_city_Emergency_room','locations_offering_testing_in_your_city_Hospital','locations_offering_testing_in_your_city_Other']].mean()\n",
    "print(df_mean)"
   ]
  },
  {
   "cell_type": "code",
   "execution_count": null,
   "metadata": {},
   "outputs": [],
   "source": [
    "#########NEW QUESTION"
   ]
  },
  {
   "cell_type": "code",
   "execution_count": null,
   "metadata": {},
   "outputs": [],
   "source": [
    "df['which_of_the_following_activities_will_you_feel_comfortable_with_now_or_immediately_after_non_essential_businesses_re_open'].value_counts().sort_values(ascending=False)\n"
   ]
  },
  {
   "cell_type": "code",
   "execution_count": null,
   "metadata": {},
   "outputs": [],
   "source": [
    "'which_of_the_following_activities_will_you_feel_comfortable_with_now_or_immediately_after_non_essential_businesses_re_open\n",
    "\n",
    "did not exist    \n",
    "Visiting a friend’s home for a small social gathering (fewer than 10 people)\n",
    "Shopping at non-essential stores\n",
    "None of the above \n",
    "Shopping at non-essential stores^Visiting a friend’s home for a small social gathering (fewer than 10 people) "
   ]
  },
  {
   "cell_type": "code",
   "execution_count": null,
   "metadata": {},
   "outputs": [],
   "source": [
    "df['activities_will_you_feel_comfortable_with_now_or_immediately_after_non_essential_businesses_re_open_did_not_exist']=df['which_of_the_following_activities_will_you_feel_comfortable_with_now_or_immediately_after_non_essential_businesses_re_open'].str.contains('did not exist', regex=False, na=False).astype(int)"
   ]
  },
  {
   "cell_type": "code",
   "execution_count": null,
   "metadata": {},
   "outputs": [],
   "source": [
    "df['activities_will_you_feel_comfortable_with_now_or_immediately_after_non_essential_businesses_re_open_Visiting_a_friends_home_fewer_than_10']=df['which_of_the_following_activities_will_you_feel_comfortable_with_now_or_immediately_after_non_essential_businesses_re_open'].str.contains('Visiting a friend’s home for a small social gathering (fewer than 10 people)', regex=False, na=False).astype(int)"
   ]
  },
  {
   "cell_type": "code",
   "execution_count": null,
   "metadata": {},
   "outputs": [],
   "source": [
    "df['activities_will_you_feel_comfortable_with_now_or_immediately_after_non_essential_businesses_re_open_Shopping_at_non-essential_stores']=df['which_of_the_following_activities_will_you_feel_comfortable_with_now_or_immediately_after_non_essential_businesses_re_open'].str.contains('Shopping at non-essential stores', regex=False, na=False).astype(int)"
   ]
  },
  {
   "cell_type": "code",
   "execution_count": null,
   "metadata": {},
   "outputs": [],
   "source": [
    "df['activities_will_you_feel_comfortable_with_now_or_immediately_after_non_essential_businesses_re_open_None_of_the_above']=df['which_of_the_following_activities_will_you_feel_comfortable_with_now_or_immediately_after_non_essential_businesses_re_open'].str.contains('None of the above', regex=False, na=False).astype(int)"
   ]
  },
  {
   "cell_type": "code",
   "execution_count": null,
   "metadata": {},
   "outputs": [],
   "source": [
    "df['activities_will_you_feel_comfortable_with_now_or_immediately_after_non_essential_businesses_re_open_shopping_at_non_essential_stores']=df['which_of_the_following_activities_will_you_feel_comfortable_with_now_or_immediately_after_non_essential_businesses_re_open'].str.contains('non-essential stores', regex=False, na=False).astype(int)"
   ]
  },
  {
   "cell_type": "code",
   "execution_count": null,
   "metadata": {},
   "outputs": [],
   "source": [
    "df_mean_1 = df[['activities_will_you_feel_comfortable_with_now_or_immediately_after_non_essential_businesses_re_open_Visiting_a_friends_home_fewer_than_10','activities_will_you_feel_comfortable_with_now_or_immediately_after_non_essential_businesses_re_open_Shopping_at_non-essential_stores','activities_will_you_feel_comfortable_with_now_or_immediately_after_non_essential_businesses_re_open_None_of_the_above', 'activities_will_you_feel_comfortable_with_now_or_immediately_after_non_essential_businesses_re_open_shopping_at_non_essential_stores']].mean()\n",
    "print(df_mean_1)"
   ]
  },
  {
   "cell_type": "code",
   "execution_count": null,
   "metadata": {},
   "outputs": [],
   "source": [
    "check_cols = [col for col in df.columns if 'now_or_immediately_after_non_essential_businesses_re_open' in col]\n",
    "print(check_cols)"
   ]
  },
  {
   "cell_type": "code",
   "execution_count": null,
   "metadata": {},
   "outputs": [],
   "source": [
    "df[check_cols][~df['which_of_the_following_activities_will_you_feel_comfortable_with_now_or_immediately_after_non_essential_businesses_re_open'].isnull()]"
   ]
  },
  {
   "cell_type": "code",
   "execution_count": null,
   "metadata": {},
   "outputs": [],
   "source": [
    "##NEXT QUESTION\n",
    "Which of the following behaviors are you or do you expect to demonstrate in public once non-essential businesses re-open?\n",
    "\n",
    "Maintaining physical distance from others | Wearing a face mask in public\n",
    "| Wearing gloves in public \n",
    "| Avoiding public places |\n",
    "Avoiding handshakes | \n",
    "Frequently washing hands | None of the above\n",
    "\n"
   ]
  },
  {
   "cell_type": "code",
   "execution_count": null,
   "metadata": {},
   "outputs": [],
   "source": [
    "\n",
    "df['behaviors_you_expect_to_demonstrate_in_public_once_non_essential_businesses_re_open_maintaing_physical_distance']= df['which_of_the_following_behaviors_are_you_or_do_you_expect_to_demonstrate_in_public_once_non_essential_businesses_re_open'].str.contains('Maintaining physical distance from others', regex=False, na=False).astype(int)\n",
    "df['behaviors_you_expect_to_demonstrate_in_public_once_non_essential_businesses_re_open_wearing_face_mask']= df['which_of_the_following_behaviors_are_you_or_do_you_expect_to_demonstrate_in_public_once_non_essential_businesses_re_open'].str.contains('Wearing a face mask in public', regex=False, na=False).astype(int)\n",
    "df['behaviors_you_expect_to_demonstrate_in_public_once_non_essential_businesses_re_open_wearing_gloves'] =df['which_of_the_following_behaviors_are_you_or_do_you_expect_to_demonstrate_in_public_once_non_essential_businesses_re_open'].str.contains('Wearing gloves in public', regex=False, na=False).astype(int)\n",
    "df['behaviors_you_expect_to_demonstrate_in_public_once_non_essential_businesses_re_open_avoiding_hand_shakes']= df['which_of_the_following_behaviors_are_you_or_do_you_expect_to_demonstrate_in_public_once_non_essential_businesses_re_open'].str.contains('Avoiding handshakes', regex=False, na=False).astype(int)\n",
    "df['behaviors_you_expect_to_demonstrate_in_public_once_non_essential_businesses_re_open_washing_hands']= df['which_of_the_following_behaviors_are_you_or_do_you_expect_to_demonstrate_in_public_once_non_essential_businesses_re_open'].str.contains('Frequently washing hands', regex=False, na=False).astype(int)\n",
    "df['behaviors_you_expect_to_demonstrate_in_public_once_non_essential_businesses_none_of_the_above'] =df['which_of_the_following_behaviors_are_you_or_do_you_expect_to_demonstrate_in_public_once_non_essential_businesses_re_open'].str.contains('None of the above', regex=False, na=False).astype(int)"
   ]
  },
  {
   "cell_type": "code",
   "execution_count": null,
   "metadata": {},
   "outputs": [],
   "source": [
    "df_mean_2= df[['behaviors_you_expect_to_demonstrate_in_public_once_non_essential_businesses_re_open_maintaing_physical_distance','behaviors_you_expect_to_demonstrate_in_public_once_non_essential_businesses_re_open_wearing_face_mask', 'behaviors_you_expect_to_demonstrate_in_public_once_non_essential_businesses_re_open_wearing_gloves','behaviors_you_expect_to_demonstrate_in_public_once_non_essential_businesses_re_open_avoiding_hand_shakes', 'behaviors_you_expect_to_demonstrate_in_public_once_non_essential_businesses_re_open_washing_hands','behaviors_you_expect_to_demonstrate_in_public_once_non_essential_businesses_none_of_the_above']].mean()\n",
    "print(df_mean_2)"
   ]
  },
  {
   "cell_type": "code",
   "execution_count": null,
   "metadata": {},
   "outputs": [],
   "source": [
    "check_cols = [col for col in df.columns if 'behaviors_you_expect_to_demonstrate_in_public' in col]\n",
    "print(check_cols)"
   ]
  },
  {
   "cell_type": "code",
   "execution_count": null,
   "metadata": {},
   "outputs": [],
   "source": [
    "df[check_cols][~df['which_of_the_following_activities_will_you_feel_comfortable_with_now_or_immediately_after_non_essential_businesses_re_open'].isnull()]"
   ]
  },
  {
   "cell_type": "code",
   "execution_count": null,
   "metadata": {},
   "outputs": [],
   "source": [
    "######Next Question\n",
    "Which of the following categories of items were difficult or impossible to find?\n",
    "Fresh produce | Fresh meats | Canned goods | Frozen goods | Other pre-packaged goods \n",
    "| Cleaning supplies | Toilet paper | Over-the-counter medicines or medical supplies | Other\n"
   ]
  },
  {
   "cell_type": "code",
   "execution_count": null,
   "metadata": {},
   "outputs": [],
   "source": []
  },
  {
   "cell_type": "code",
   "execution_count": null,
   "metadata": {},
   "outputs": [],
   "source": [
    "df['which_of_the_following_categories_of_items_were_difficult_or_impossible_to_find'].value_counts().sort_values(ascending=False)\n",
    "df['categories_of_items_were_difficult_or_impossible_to_find_fresh_produce']=df['which_of_the_following_categories_of_items_were_difficult_or_impossible_to_find'].str.contains(\"Fresh Produce\", regex=False, na=False).astype(int)\n",
    "df['categories_of_items_were_difficult_or_impossible_to_find_fresh_meats']=df['which_of_the_following_categories_of_items_were_difficult_or_impossible_to_find'].str.contains(\"Fresh meats\", regex=False, na=False).astype(int)\n",
    "df['categories_of_items_were_difficult_or_impossible_to_find_canned_goods']= df['which_of_the_following_categories_of_items_were_difficult_or_impossible_to_find'].str.contains(\"Canned goods\", regex=False, na=False).astype(int)\n",
    "df['categories_of_items_were_difficult_or_impossible_to_find_frozen_goods']= df['which_of_the_following_categories_of_items_were_difficult_or_impossible_to_find'].str.contains(\"Frozen goods\", regex=False, na=False).astype(int)\n",
    "df['categories_of_items_were_difficult_or_impossible_to_find_pre_pack_goods']=df['which_of_the_following_categories_of_items_were_difficult_or_impossible_to_find'].str.contains(\"Other pre-packaged goods\", regex=False, na=False).astype(int)\n",
    "df['categories_of_items_were_difficult_or_impossible_to_find_cleaning_sup'] =df['which_of_the_following_categories_of_items_were_difficult_or_impossible_to_find'].str.contains(\"Cleaning supplies\", regex=False, na=False).astype(int)\n",
    "df['categories_of_items_were_difficult_or_impossible_to_find_cleaning_toilet_pap'] =df['which_of_the_following_categories_of_items_were_difficult_or_impossible_to_find'].str.contains(\"Toilet paper\", regex=False, na=False).astype(int)\n",
    "df['categories_of_items_were_difficult_or_impossible_to_find_cleaning_over_medical_sup']= df['which_of_the_following_categories_of_items_were_difficult_or_impossible_to_find'].str.contains(\"Over-the-counter medicines or medical supplies\", regex=False, na=False).astype(int)\n"
   ]
  },
  {
   "cell_type": "code",
   "execution_count": null,
   "metadata": {},
   "outputs": [],
   "source": [
    "df_mean_3= df[['categories_of_items_were_difficult_or_impossible_to_find_fresh_produce','categories_of_items_were_difficult_or_impossible_to_find_fresh_meats','categories_of_items_were_difficult_or_impossible_to_find_canned_goods','categories_of_items_were_difficult_or_impossible_to_find_frozen_goods','categories_of_items_were_difficult_or_impossible_to_find_pre_pack_goods','categories_of_items_were_difficult_or_impossible_to_find_cleaning_sup','categories_of_items_were_difficult_or_impossible_to_find_cleaning_toilet_pap','categories_of_items_were_difficult_or_impossible_to_find_cleaning_over_medical_sup']].mean()\n",
    "print(df_mean_3)"
   ]
  },
  {
   "cell_type": "code",
   "execution_count": null,
   "metadata": {},
   "outputs": [],
   "source": [
    "check_cols = [col for col in df.columns if 'items_were_difficult_or_impossible_to_find' in col]\n",
    "print(check_cols)"
   ]
  },
  {
   "cell_type": "code",
   "execution_count": null,
   "metadata": {},
   "outputs": [],
   "source": [
    "\n",
    "\n",
    "df[check_cols][~df['which_of_the_following_categories_of_items_were_difficult_or_impossible_to_find'].isnull()]"
   ]
  },
  {
   "cell_type": "code",
   "execution_count": null,
   "metadata": {},
   "outputs": [],
   "source": [
    "From which of the following places have you purchased or looked for food and other supplies?\n",
    "\n",
    "Grocery stores or supermarkets | Local markets | \n",
    "Big box stores or hypermarkets (e.g. Target, Costco) | \n",
    "Pharmacies | Online (e.g. Amazon, Alibaba) | Other"
   ]
  },
  {
   "cell_type": "code",
   "execution_count": null,
   "metadata": {},
   "outputs": [],
   "source": [
    "df['from_which_of_the_following_places_have_you_purchased_or_looked_for_food_and_other_supplies'].value_counts().sort_values(ascending=False)"
   ]
  },
  {
   "cell_type": "code",
   "execution_count": null,
   "metadata": {},
   "outputs": [],
   "source": [
    "df['places_you_have_looked_for_other_food_supplies_grocery_or_supermarket']=df['from_which_of_the_following_places_have_you_purchased_or_looked_for_food_and_other_supplies'].str.contains(\"Grocery stores or supermarkets\", regex=False, na=False).astype(int)\n",
    "df['places_you_have_looked_for_other_food_supplies_local_market']=df['from_which_of_the_following_places_have_you_purchased_or_looked_for_food_and_other_supplies'].str.contains(\"Local market\", regex=False, na=False).astype(int)\n",
    "df['places_you_have_looked_for_other_food_supplies_big_box_hyper']=df['from_which_of_the_following_places_have_you_purchased_or_looked_for_food_and_other_supplies'].str.contains(\"Big bix stores or hypermarkets\", regex=False, na=False).astype(int)\n",
    "df['places_you_have_looked_for_other_food_supplies_pharmacies']=df['from_which_of_the_following_places_have_you_purchased_or_looked_for_food_and_other_supplies'].str.contains(\"pharmacies\", regex=False, na=False).astype(int)\n",
    "df['places_you_have_looked_for_other_food_supplies_online']=df['from_which_of_the_following_places_have_you_purchased_or_looked_for_food_and_other_supplies'].str.contains(\"Online\", regex=False, na=False).astype(int)\n",
    "df['places_you_have_looked_for_other_food_supplies_other']=df['from_which_of_the_following_places_have_you_purchased_or_looked_for_food_and_other_supplies'].str.contains(\"other\", regex=False, na=False).astype(int)\n",
    "\n",
    "\n",
    "\n",
    "\n",
    "\n",
    "\n",
    "\n",
    "\n",
    "\n"
   ]
  },
  {
   "cell_type": "code",
   "execution_count": null,
   "metadata": {},
   "outputs": [],
   "source": [
    "df_mean_4= df[['places_you_have_looked_for_other_food_supplies_grocery_or_supermarket','places_you_have_looked_for_other_food_supplies_local_market', 'places_you_have_looked_for_other_food_supplies_big_box_hyper','places_you_have_looked_for_other_food_supplies_pharmacies','places_you_have_looked_for_other_food_supplies_online','places_you_have_looked_for_other_food_supplies_other']].mean()\n",
    "print(df_mean_4)"
   ]
  },
  {
   "cell_type": "code",
   "execution_count": null,
   "metadata": {},
   "outputs": [],
   "source": [
    "check_cols = [col for col in df.columns if 'have_looked' in col]\n",
    "print(check_cols)\n"
   ]
  },
  {
   "cell_type": "code",
   "execution_count": null,
   "metadata": {},
   "outputs": [],
   "source": [
    "df[check_cols][~df['from_which_of_the_following_places_have_you_purchased_or_looked_for_food_and_other_supplies'].isnull()]"
   ]
  },
  {
   "cell_type": "code",
   "execution_count": null,
   "metadata": {},
   "outputs": [],
   "source": [
    "df['how_have_you_been_getting_updates_on_covid_19_from_the_list_below_select_all_the_types_of_media_youu2019ve_been_relying_on_for_updates_as_coronavirus_cases_increase'].value_counts().sort_values(ascending=False)"
   ]
  },
  {
   "cell_type": "code",
   "execution_count": null,
   "metadata": {},
   "outputs": [],
   "source": [
    "Local newspaper (or its website) | National newspaper (or its website) |\n",
    "Local television station | National or cable television station | Local radio |\n",
    "National radio | Health Organizations (e.g. WHO, CDC, local health department) \n",
    "| Social media (e.g. Facebook, Twitter, Instagram, WhatsApp) | Other"
   ]
  },
  {
   "cell_type": "code",
   "execution_count": null,
   "metadata": {},
   "outputs": [],
   "source": [
    "\n",
    "df['how_have_you_been_getting_updates_on_covid_19_from_the_list_below_select_all_the_types_of_media_youu2019ve_been_relying_on_for_updates_as_coronavirus_cases_increase_local_newspaper']=df['how_have_you_been_getting_updates_on_covid_19_from_the_list_below_select_all_the_types_of_media_youu2019ve_been_relying_on_for_updates_as_coronavirus_cases_increase'].str.contains(\"local newspaper\", regex=False, na=False).astype(int)\n",
    "df['how_have_you_been_getting_updates_on_covid_19_from_the_list_below_select_all_the_types_of_media_youu2019ve_been_relying_on_for_updates_as_coronavirus_cases_increase_national_newspaper']=df['how_have_you_been_getting_updates_on_covid_19_from_the_list_below_select_all_the_types_of_media_youu2019ve_been_relying_on_for_updates_as_coronavirus_cases_increase'].str.contains(\"national newspaper\", regex=False, na=False).astype(int)\n",
    "df['how_have_you_been_getting_updates_on_covid_19_from_the_list_below_select_all_the_types_of_media_youu2019ve_been_relying_on_for_updates_as_coronavirus_cases_increase_local_television']=df['how_have_you_been_getting_updates_on_covid_19_from_the_list_below_select_all_the_types_of_media_youu2019ve_been_relying_on_for_updates_as_coronavirus_cases_increase'].str.contains(\"local television\", regex=False, na=False).astype(int)\n",
    "df['how_have_you_been_getting_updates_on_covid_19_from_the_list_below_select_all_the_types_of_media_youu2019ve_been_relying_on_for_updates_as_coronavirus_cases_increase_national_television']=df['how_have_you_been_getting_updates_on_covid_19_from_the_list_below_select_all_the_types_of_media_youu2019ve_been_relying_on_for_updates_as_coronavirus_cases_increase'].str.contains(\"national television\", regex=False, na=False).astype(int)\n",
    "df['how_have_you_been_getting_updates_on_covid_19_from_the_list_below_select_all_the_types_of_media_youu2019ve_been_relying_on_for_updates_as_coronavirus_cases_increase_local_radio']=df['how_have_you_been_getting_updates_on_covid_19_from_the_list_below_select_all_the_types_of_media_youu2019ve_been_relying_on_for_updates_as_coronavirus_cases_increase'].str.contains(\"Local radio\", regex=False, na=False).astype(int)\n",
    "df['how_have_you_been_getting_updates_on_covid_19_from_the_list_below_select_all_the_types_of_media_youu2019ve_been_relying_on_for_updates_as_coronavirus_cases_increase_national_radio']=df['how_have_you_been_getting_updates_on_covid_19_from_the_list_below_select_all_the_types_of_media_youu2019ve_been_relying_on_for_updates_as_coronavirus_cases_increase'].str.contains(\"National radio\", regex=False, na=False).astype(int)\n",
    "df['how_have_you_been_getting_updates_on_covid_19_from_the_list_below_select_all_the_types_of_media_youu2019ve_been_relying_on_for_updates_as_coronavirus_cases_increase_health_organizations']=df['how_have_you_been_getting_updates_on_covid_19_from_the_list_below_select_all_the_types_of_media_youu2019ve_been_relying_on_for_updates_as_coronavirus_cases_increase'].str.contains(\"Health Organizations\", regex=False, na=False).astype(int)\n",
    "df['how_have_you_been_getting_updates_on_covid_19_from_the_list_below_select_all_the_types_of_media_youu2019ve_been_relying_on_for_updates_as_coronavirus_cases_increase_social_media']=df['how_have_you_been_getting_updates_on_covid_19_from_the_list_below_select_all_the_types_of_media_youu2019ve_been_relying_on_for_updates_as_coronavirus_cases_increase'].str.contains(\"Social Media\", regex=False, na=False).astype(int)\n",
    "\n",
    "\n",
    "\n",
    "\n",
    "\n",
    "\n",
    "\n",
    "\n",
    "\n",
    "\n",
    "\n"
   ]
  },
  {
   "cell_type": "code",
   "execution_count": null,
   "metadata": {},
   "outputs": [],
   "source": [
    "df[['how_have_you_been_getting_updates_on_covid_19_from_the_list_below_select_all_the_types_of_media_youu2019ve_been_relying_on_for_updates_as_coronavirus_cases_increase_local_newspaper', 'how_have_you_been_getting_updates_on_covid_19_from_the_list_below_select_all_the_types_of_media_youu2019ve_been_relying_on_for_updates_as_coronavirus_cases_increase_national_newspaper', 'how_have_you_been_getting_updates_on_covid_19_from_the_list_below_select_all_the_types_of_media_youu2019ve_been_relying_on_for_updates_as_coronavirus_cases_increase_local_television', 'how_have_you_been_getting_updates_on_covid_19_from_the_list_below_select_all_the_types_of_media_youu2019ve_been_relying_on_for_updates_as_coronavirus_cases_increase_national_television', 'how_have_you_been_getting_updates_on_covid_19_from_the_list_below_select_all_the_types_of_media_youu2019ve_been_relying_on_for_updates_as_coronavirus_cases_increase_local_radio', 'how_have_you_been_getting_updates_on_covid_19_from_the_list_below_select_all_the_types_of_media_youu2019ve_been_relying_on_for_updates_as_coronavirus_cases_increase_national_radio', 'how_have_you_been_getting_updates_on_covid_19_from_the_list_below_select_all_the_types_of_media_youu2019ve_been_relying_on_for_updates_as_coronavirus_cases_increase_health_organizations', 'how_have_you_been_getting_updates_on_covid_19_from_the_list_below_select_all_the_types_of_media_youu2019ve_been_relying_on_for_updates_as_coronavirus_cases_increase_social_media']].mean()"
   ]
  },
  {
   "cell_type": "code",
   "execution_count": null,
   "metadata": {},
   "outputs": [],
   "source": [
    "check_cols = [col for col in df.columns if 'types_of_media' in col]\n",
    "print(check_cols)"
   ]
  },
  {
   "cell_type": "code",
   "execution_count": null,
   "metadata": {},
   "outputs": [],
   "source": [
    "df[check_cols][~df['how_have_you_been_getting_updates_on_covid_19_from_the_list_below_select_all_the_types_of_media_youu2019ve_been_relying_on_for_updates_as_coronavirus_cases_increase'].isnull()]\n",
    "\n"
   ]
  },
  {
   "cell_type": "code",
   "execution_count": null,
   "metadata": {},
   "outputs": [],
   "source": [
    "df['which_of_the_following_factors_have_inclined_you_to_not_closely_follow_the_guidance_of_social_distancing'].value_counts()\n",
    "\n",
    "#I dont interact with people in the most vulnerable groups |\n",
    "#My work has not been supportive of social distancing measures |\n",
    "#I do not want to lose my employer-provided insurance |\n",
    "#I cannot avoid public trans\n",
    "#I cannot work from home |\n",
    "#Few people in my community are following social distancing guidance\n"
   ]
  },
  {
   "cell_type": "code",
   "execution_count": null,
   "metadata": {},
   "outputs": [],
   "source": [
    "df['dont_interact_with_most_vuln']=df['which_of_the_following_factors_have_inclined_you_to_not_closely_follow_the_guidance_of_social_distancing'].str.contains(\"most vulnerable\", regex=False, na=False).astype(int)\n",
    "\n",
    "df['work_is_not_supportive_of_social_distancing']=df['which_of_the_following_factors_have_inclined_you_to_not_closely_follow_the_guidance_of_social_distancing'].str.contains(\"not been supportive\", regex=False, na=False).astype(int)\n",
    "\n",
    "\n",
    "df['lose_my_employer_provided_insurance']=df['which_of_the_following_factors_have_inclined_you_to_not_closely_follow_the_guidance_of_social_distancing'].str.contains(\"want to lose my employer\", regex=False, na=False).astype(int)\n",
    "\n",
    "\n",
    "df['cant_avoid_pub_trans']=df['which_of_the_following_factors_have_inclined_you_to_not_closely_follow_the_guidance_of_social_distancing'].str.contains(\"I cannot avoid public trans\", regex=False, na=False).astype(int)\n",
    "\n",
    "\n",
    "df['cant_work_from_home']=df['which_of_the_following_factors_have_inclined_you_to_not_closely_follow_the_guidance_of_social_distancing'].str.contains(\"I cannot work from home\", regex=False, na=False).astype(int)\n",
    "\n",
    "\n",
    "df['few people_in_my_community_follow_social_distancing']=df['which_of_the_following_factors_have_inclined_you_to_not_closely_follow_the_guidance_of_social_distancing'].str.contains(\"few people in my community\", regex=False, na=False).astype(int)\n",
    "\n",
    "\n"
   ]
  },
  {
   "cell_type": "code",
   "execution_count": null,
   "metadata": {},
   "outputs": [],
   "source": [
    "df_mean_have_not_inclined_you=df[['factors_have_not_inclined_you_to_follow_social_distancing_guidlines_dont_interact_with_most_vuln', 'factors_have_not_inclined_you_to_follow_social_distancing_guidlines_work_is_not_supportive_of_social_distancing', 'factors_have_not_inclined_you_to_follow_social_distancing_guidlines_i_do_not_want_to_lose_my_employer_provided_insurance', 'factors_have_not_inclined_you_to_follow_social_distancing_guidlines_cant_avoid_pub_trans', 'factors_have_not_inclined_you_to_follow_social_distancing_guidlines_cant_work_from_home','factors_have_not_inclined_you_to_follow_social_distancing_guidlines_few people_in_my_community_follow_social_distancing']].mean()\n",
    "print(df_mean_have_not_inclined_you)\n",
    "\n"
   ]
  },
  {
   "cell_type": "code",
   "execution_count": null,
   "metadata": {},
   "outputs": [],
   "source": [
    "# Pyplot imports\n",
    "import matplotlib.pyplot as plt\n",
    "# Also works\n",
    "# from matplotlib import pyplot as \n",
    "plt.style.available\n",
    "\n",
    "plt.style.use('seaborn')\n",
    "figure = plt.figure()\n",
    "axes = plt.axes()\n",
    "figure, axes = plt.subplots()"
   ]
  },
  {
   "cell_type": "code",
   "execution_count": null,
   "metadata": {},
   "outputs": [],
   "source": [
    "# Get the objects\n",
    "figure, axes = plt.subplots()\n",
    "\n",
    "# Use the `plot()` method to \"write\" data on your axes.\n",
    "# The first argument is used as the x-axis\n",
    "# The second is used for the y-axis\n",
    "axes.plot(df_mean_have_not_inclined_you)"
   ]
  },
  {
   "cell_type": "code",
   "execution_count": null,
   "metadata": {},
   "outputs": [],
   "source": [
    "check_cols = [col for col in df.columns if 'have_not_inclined_you' in col]\n",
    "print(check_cols)"
   ]
  },
  {
   "cell_type": "code",
   "execution_count": null,
   "metadata": {},
   "outputs": [],
   "source": [
    "df[check_cols][~df['which_of_the_following_factors_have_inclined_you_to_not_closely_follow_the_guidance_of_social_distancing'].isnull()]\n",
    "\n",
    "\n",
    "\n"
   ]
  },
  {
   "cell_type": "code",
   "execution_count": null,
   "metadata": {},
   "outputs": [],
   "source": []
  },
  {
   "cell_type": "code",
   "execution_count": null,
   "metadata": {},
   "outputs": [],
   "source": []
  },
  {
   "cell_type": "code",
   "execution_count": null,
   "metadata": {},
   "outputs": [],
   "source": []
  },
  {
   "cell_type": "code",
   "execution_count": null,
   "metadata": {},
   "outputs": [],
   "source": []
  },
  {
   "cell_type": "code",
   "execution_count": null,
   "metadata": {},
   "outputs": [],
   "source": []
  },
  {
   "cell_type": "code",
   "execution_count": null,
   "metadata": {},
   "outputs": [],
   "source": []
  },
  {
   "cell_type": "code",
   "execution_count": null,
   "metadata": {},
   "outputs": [],
   "source": []
  },
  {
   "cell_type": "code",
   "execution_count": null,
   "metadata": {},
   "outputs": [],
   "source": []
  },
  {
   "cell_type": "code",
   "execution_count": null,
   "metadata": {},
   "outputs": [],
   "source": []
  },
  {
   "cell_type": "code",
   "execution_count": null,
   "metadata": {},
   "outputs": [],
   "source": []
  }
 ],
 "metadata": {
  "kernelspec": {
   "display_name": "Python 3",
   "language": "python",
   "name": "python3"
  },
  "language_info": {
   "codemirror_mode": {
    "name": "ipython",
    "version": 3
   },
   "file_extension": ".py",
   "mimetype": "text/x-python",
   "name": "python",
   "nbconvert_exporter": "python",
   "pygments_lexer": "ipython3",
   "version": "3.8.5"
  }
 },
 "nbformat": 4,
 "nbformat_minor": 4
}
