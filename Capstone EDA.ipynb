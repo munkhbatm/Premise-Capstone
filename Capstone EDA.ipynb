{
 "cells": [
  {
   "cell_type": "code",
   "execution_count": 1,
   "metadata": {},
   "outputs": [],
   "source": [
    "import numpy as np\n",
    "import matplotlib.pyplot as plt\n",
    "import pandas as pd"
   ]
  },
  {
   "cell_type": "code",
   "execution_count": 1,
   "metadata": {},
   "outputs": [
    {
     "ename": "NameError",
     "evalue": "name 'pd' is not defined",
     "output_type": "error",
     "traceback": [
      "\u001b[0;31m---------------------------------------------------------------------------\u001b[0m",
      "\u001b[0;31mNameError\u001b[0m                                 Traceback (most recent call last)",
      "\u001b[0;32m<ipython-input-1-3cc7aa502448>\u001b[0m in \u001b[0;36m<module>\u001b[0;34m\u001b[0m\n\u001b[0;32m----> 1\u001b[0;31m \u001b[0mdataset\u001b[0m \u001b[0;34m=\u001b[0m \u001b[0mpd\u001b[0m\u001b[0;34m.\u001b[0m\u001b[0mread_csv\u001b[0m\u001b[0;34m(\u001b[0m\u001b[0;34m'covid.csv'\u001b[0m\u001b[0;34m)\u001b[0m\u001b[0;34m\u001b[0m\u001b[0;34m\u001b[0m\u001b[0m\n\u001b[0m\u001b[1;32m      2\u001b[0m \u001b[0;34m'hello world'\u001b[0m\u001b[0;34m\u001b[0m\u001b[0;34m\u001b[0m\u001b[0m\n",
      "\u001b[0;31mNameError\u001b[0m: name 'pd' is not defined"
     ]
    }
   ],
   "source": [
    "dataset = pd.read_csv('covid.csv')\n",
    "'hello world'"
   ]
  },
  {
   "cell_type": "code",
   "execution_count": 10,
   "metadata": {},
   "outputs": [],
   "source": [
    "dataset = dataset.iloc[:,9:]"
   ]
  },
  {
   "cell_type": "code",
   "execution_count": 11,
   "metadata": {},
   "outputs": [
    {
     "data": {
      "text/plain": [
       "(2866985, 80)"
      ]
     },
     "execution_count": 11,
     "metadata": {},
     "output_type": "execute_result"
    }
   ],
   "source": [
    "dataset.shape"
   ]
  },
  {
   "cell_type": "code",
   "execution_count": 12,
   "metadata": {},
   "outputs": [
    {
     "data": {
      "text/plain": [
       "Index(['campaign_name', 'project_id', 'project_name', 'organization_id',\n",
       "       'gender', 'age', 'geography', 'financial_situation', 'education',\n",
       "       'employment_status', 'ethnicity', 'religion', 'batch_date',\n",
       "       'location_feature_id', 'location_feature_name', 'observation_lat',\n",
       "       'observation_lon', 'HASC_code', 'L0_name', 'L1_name', 'L2_name',\n",
       "       'intro_input',\n",
       "       'the_following_questions_will_ask_you_about_the_spread_of_covid_19_in_your_area',\n",
       "       'how_concerned_are_you_about_the_spread_of_covid_19_in_your_community',\n",
       "       'have_you_personally_contracted_covid_19',\n",
       "       'did_you_seek_medical_care_to_treat_covid_19',\n",
       "       'how_satisfied_were_you_with_the_level_of_care_you_received',\n",
       "       'how_confident_are_you_that_you_are_immune_should_a_\"second_wave\"_emerge_in_the_future',\n",
       "       'why_were_you_not_tested',\n",
       "       'how_concerned_are_you_that_you_personally_will_contract_covid_19',\n",
       "       'how_concerned_are_you_about_your_access_to_adequate_health_care_services_should_you_contract_covid_19',\n",
       "       'do_you_know_if_testing_for_coronavirus_is_available_in_your_city',\n",
       "       'what_kind_of_locations_or_facilities_are_offering_testing_in_your_city',\n",
       "       'the_following_questions_will_ask_you_about_the_government_response_to_and_economic_impact_of_the_covid_19_pandemic_in_your_area',\n",
       "       'which_of_the_following_statements_best_describes_your_attitude_towards_your_local_town_or_municipality_governmentu2019s_response_to_covid_19_my_local_government_hasu2026',\n",
       "       'do_you_trust_your_local_or_national_government_to_make_more_effective_decisions_regarding_covid_19',\n",
       "       'are_non_essential_businesses_in_your_area_closed',\n",
       "       'are_non_essential_businesses_closed_by_declaration_of_authorities_or_voluntarily',\n",
       "       'when_do_you_believe_non_essential_businesses_should_open_in_your_area',\n",
       "       'what_do_you_think_of_the_timing_of_the_decision_to_re_open_non_essential_businesses_in_your_area',\n",
       "       'which_of_the_following_activities_will_you_feel_comfortable_with_now_or_immediately_after_non_essential_businesses_re_open',\n",
       "       'when_do_you_anticipate_feeling_comfortable_shopping_at_non_essential_stores',\n",
       "       'when_do_you_anticipate_feeling_comfortable_shopping_at_nonessential_stores_copy',\n",
       "       'when_do_you_anticipate_feeling_comfortable_riding_public_transportation',\n",
       "       'when_do_you_anticipate_feeling_comfortable_traveling_by_airplane',\n",
       "       'how_difficult_has_it_been_for_you_to_find_groceries_and_other_items',\n",
       "       'which_of_the_following_categories_of_items_were_difficult_or_impossible_to_find',\n",
       "       'from_which_of_the_following_places_have_you_purchased_or_looked_for_food_and_other_supplies',\n",
       "       'have_you_or_a_family_member_been_affected_by_price_gouging_for_goods_and_services_related_to_the_coronavirus_covid_19',\n",
       "       'how_concerned_are_you_about_the_long_term_negative_impacts_the_coronavirus_could_have_on_your_national_economy',\n",
       "       'how_long_do_you_believe_it_will_take_for_your_local_economy_to_rebound_to_its_pre_covid_19_status',\n",
       "       'the_following_questions_will_ask_you_about_the_impact_of_the_covid_19_pandemic_on_your_day_to_day_life_and_personal_finances',\n",
       "       'has_your_income_been_at_all_affected_by_the_covid_19_pandemic',\n",
       "       'in_the_past_week_how_much_did_you_reduce_the_number_of_hours_worked_compared_to_a_typical_week',\n",
       "       'how_long_do_you_believe_it_will_take_for_your_income_to_reach_its_pre_covid_19_levels',\n",
       "       'how_concerned_are_you_that_your_economic_situation_will_be_negatively_impacted_in_the_next_30_days_as_a_result_of_a_change_in_economic_activity',\n",
       "       'have_you_left_or_are_you_planning_to_leave_your_home_today',\n",
       "       'why_did_you_or_are_you_planning_to_leave_your_home_today',\n",
       "       'when_you_leave_your_home_do_you_typically_wear_a_face_mask',\n",
       "       'why_do_you_not_wear_a_mask_when_you_leave_your_home',\n",
       "       'one_last_question_what_do_you_think_has_negatively_impacted_your_daily_life_most_because_of_covid_19',\n",
       "       'do_you_have_school_aged_children_living_in_your_household',\n",
       "       'has_their_school_closed_due_to_covid_19',\n",
       "       'what_do_you_think_of_the_decision_to_re_open_schools_in_your_area',\n",
       "       'have_you_canceled_or_altered_travel_plans_because_of_the_coronavirus_covid_19',\n",
       "       'have_you_been_practicing_social_distancing_when_you_leave_the_house',\n",
       "       'which_of_the_following_factors_have_inclined_you_to_not_closely_follow_the_guidance_of_social_distancing',\n",
       "       'which_of_the_following_behaviors_are_you_or_do_you_expect_to_demonstrate_in_public_once_non_essential_businesses_re_open',\n",
       "       'how_much_of_an_impact_do_you_believe_the_covid_19_pandemic_and_subsequent_quarantine_measures_have_had_on_your_mental_and_emotional_health',\n",
       "       'finally_this_last_group_of_questions_will_ask_you_about_how_you_receive_information_about_covid_19',\n",
       "       'how_have_you_been_getting_updates_on_covid_19_from_the_list_below_select_all_the_types_of_media_youu2019ve_been_relying_on_for_updates_as_coronavirus_cases_increase',\n",
       "       'how_much_do_you_agree_with_the_following_statement_u201ci_am_well_informed_about_covid_19_and_understand_where_to_get_additional_informationu201d',\n",
       "       'how_satisfied_are_you_with_the_media_coverage_of_covid_19',\n",
       "       'in_the_past_6_months_have_you_heard_read_or_seen_any_information_or_messaging_that_highlights_the_downsides_of_a_covid_19_vaccine',\n",
       "       'which_media_outlets_do_you_think_only_report_on_the_potential_disadvantages_of_a_covid_19_vaccine',\n",
       "       'how_safe_do_you_believe_the_covid_19_vaccines_being_developed_now_are',\n",
       "       'which_of_the_following_countries_do_you_feel_the_most_ready_to_receive_a_covid_19_vaccine_from',\n",
       "       'how_much_do_you_agree_with_the_following_statement_u201cvaccines_are_necessary_to_promote_herd_immunity_and_ensure_the_health_and_safety_of_everyone_in_the_community_including_immunocompromised_individuals_u201d',\n",
       "       'when_a_covid_19_vaccine_becomes_widely_publicly_available_how_likely_are_you_to_get_it',\n",
       "       'how_quickly_will_you_get_the_covid_19_vaccine'],\n",
       "      dtype='object')"
      ]
     },
     "execution_count": 12,
     "metadata": {},
     "output_type": "execute_result"
    }
   ],
   "source": [
    "dataset.columns"
   ]
  },
  {
   "cell_type": "code",
   "execution_count": 15,
   "metadata": {},
   "outputs": [
    {
     "data": {
      "text/html": [
       "<div>\n",
       "<style scoped>\n",
       "    .dataframe tbody tr th:only-of-type {\n",
       "        vertical-align: middle;\n",
       "    }\n",
       "\n",
       "    .dataframe tbody tr th {\n",
       "        vertical-align: top;\n",
       "    }\n",
       "\n",
       "    .dataframe thead th {\n",
       "        text-align: right;\n",
       "    }\n",
       "</style>\n",
       "<table border=\"1\" class=\"dataframe\">\n",
       "  <thead>\n",
       "    <tr style=\"text-align: right;\">\n",
       "      <th></th>\n",
       "      <th>campaign_name</th>\n",
       "      <th>project_id</th>\n",
       "      <th>project_name</th>\n",
       "      <th>organization_id</th>\n",
       "      <th>gender</th>\n",
       "      <th>age</th>\n",
       "      <th>geography</th>\n",
       "      <th>financial_situation</th>\n",
       "      <th>education</th>\n",
       "      <th>employment_status</th>\n",
       "      <th>...</th>\n",
       "      <th>how_have_you_been_getting_updates_on_covid_19_from_the_list_below_select_all_the_types_of_media_youu2019ve_been_relying_on_for_updates_as_coronavirus_cases_increase</th>\n",
       "      <th>how_much_do_you_agree_with_the_following_statement_u201ci_am_well_informed_about_covid_19_and_understand_where_to_get_additional_informationu201d</th>\n",
       "      <th>how_satisfied_are_you_with_the_media_coverage_of_covid_19</th>\n",
       "      <th>in_the_past_6_months_have_you_heard_read_or_seen_any_information_or_messaging_that_highlights_the_downsides_of_a_covid_19_vaccine</th>\n",
       "      <th>which_media_outlets_do_you_think_only_report_on_the_potential_disadvantages_of_a_covid_19_vaccine</th>\n",
       "      <th>how_safe_do_you_believe_the_covid_19_vaccines_being_developed_now_are</th>\n",
       "      <th>which_of_the_following_countries_do_you_feel_the_most_ready_to_receive_a_covid_19_vaccine_from</th>\n",
       "      <th>how_much_do_you_agree_with_the_following_statement_u201cvaccines_are_necessary_to_promote_herd_immunity_and_ensure_the_health_and_safety_of_everyone_in_the_community_including_immunocompromised_individuals_u201d</th>\n",
       "      <th>when_a_covid_19_vaccine_becomes_widely_publicly_available_how_likely_are_you_to_get_it</th>\n",
       "      <th>how_quickly_will_you_get_the_covid_19_vaccine</th>\n",
       "    </tr>\n",
       "  </thead>\n",
       "  <tbody>\n",
       "    <tr>\n",
       "      <th>0</th>\n",
       "      <td>bj_covid-19-impact</td>\n",
       "      <td>6055346049384448</td>\n",
       "      <td>COVID-19</td>\n",
       "      <td>premise</td>\n",
       "      <td>Male</td>\n",
       "      <td>16 to 25 years old</td>\n",
       "      <td>Rural</td>\n",
       "      <td>I can afford food and regular expenses, but no...</td>\n",
       "      <td>College or university</td>\n",
       "      <td>Student</td>\n",
       "      <td>...</td>\n",
       "      <td>Health Organizations (e.g. WHO, CDC, local hea...</td>\n",
       "      <td>Neither agree nor disagree</td>\n",
       "      <td>Neither satisfied nor dissatisfied</td>\n",
       "      <td>did not exist</td>\n",
       "      <td>did not exist</td>\n",
       "      <td>did not exist</td>\n",
       "      <td>did not exist</td>\n",
       "      <td>did not exist</td>\n",
       "      <td>did not exist</td>\n",
       "      <td>did not exist</td>\n",
       "    </tr>\n",
       "    <tr>\n",
       "      <th>1</th>\n",
       "      <td>bj_covid-19-impact</td>\n",
       "      <td>6055346049384448</td>\n",
       "      <td>COVID-19</td>\n",
       "      <td>premise</td>\n",
       "      <td>Male</td>\n",
       "      <td>16 to 25 years old</td>\n",
       "      <td>Rural</td>\n",
       "      <td>I can afford food and regular expenses, and bu...</td>\n",
       "      <td>College or university</td>\n",
       "      <td>Student</td>\n",
       "      <td>...</td>\n",
       "      <td>Local newspaper (or its website)^Local televis...</td>\n",
       "      <td>Agree</td>\n",
       "      <td>Satisfied</td>\n",
       "      <td>did not exist</td>\n",
       "      <td>did not exist</td>\n",
       "      <td>did not exist</td>\n",
       "      <td>did not exist</td>\n",
       "      <td>did not exist</td>\n",
       "      <td>did not exist</td>\n",
       "      <td>did not exist</td>\n",
       "    </tr>\n",
       "    <tr>\n",
       "      <th>2</th>\n",
       "      <td>bj_covid-19-impact</td>\n",
       "      <td>6055346049384448</td>\n",
       "      <td>COVID-19</td>\n",
       "      <td>premise</td>\n",
       "      <td>Male</td>\n",
       "      <td>16 to 25 years old</td>\n",
       "      <td>Rural</td>\n",
       "      <td>I can afford food and regular expenses, but no...</td>\n",
       "      <td>College or university</td>\n",
       "      <td>Employed part-time</td>\n",
       "      <td>...</td>\n",
       "      <td>Local newspaper (or its website)^Local radio^L...</td>\n",
       "      <td>Agree</td>\n",
       "      <td>Satisfied</td>\n",
       "      <td>did not exist</td>\n",
       "      <td>did not exist</td>\n",
       "      <td>did not exist</td>\n",
       "      <td>did not exist</td>\n",
       "      <td>did not exist</td>\n",
       "      <td>did not exist</td>\n",
       "      <td>did not exist</td>\n",
       "    </tr>\n",
       "    <tr>\n",
       "      <th>3</th>\n",
       "      <td>bj_covid-19-impact</td>\n",
       "      <td>6055346049384448</td>\n",
       "      <td>COVID-19</td>\n",
       "      <td>premise</td>\n",
       "      <td>Male</td>\n",
       "      <td>16 to 25 years old</td>\n",
       "      <td>Suburban/Peri-urban</td>\n",
       "      <td>I can afford food and regular expenses, but no...</td>\n",
       "      <td>College or university</td>\n",
       "      <td>Student</td>\n",
       "      <td>...</td>\n",
       "      <td>Local newspaper (or its website)</td>\n",
       "      <td>Agree</td>\n",
       "      <td>Satisfied</td>\n",
       "      <td>did not exist</td>\n",
       "      <td>did not exist</td>\n",
       "      <td>did not exist</td>\n",
       "      <td>did not exist</td>\n",
       "      <td>did not exist</td>\n",
       "      <td>did not exist</td>\n",
       "      <td>did not exist</td>\n",
       "    </tr>\n",
       "    <tr>\n",
       "      <th>4</th>\n",
       "      <td>bj_covid-19-impact</td>\n",
       "      <td>6055346049384448</td>\n",
       "      <td>COVID-19</td>\n",
       "      <td>premise</td>\n",
       "      <td>Male</td>\n",
       "      <td>16 to 25 years old</td>\n",
       "      <td>Rural</td>\n",
       "      <td>I can afford food, but nothing else</td>\n",
       "      <td>College or university</td>\n",
       "      <td>Student</td>\n",
       "      <td>...</td>\n",
       "      <td>Local newspaper (or its website)^Local televis...</td>\n",
       "      <td>Agree</td>\n",
       "      <td>Neither satisfied nor dissatisfied</td>\n",
       "      <td>did not exist</td>\n",
       "      <td>did not exist</td>\n",
       "      <td>did not exist</td>\n",
       "      <td>did not exist</td>\n",
       "      <td>did not exist</td>\n",
       "      <td>did not exist</td>\n",
       "      <td>did not exist</td>\n",
       "    </tr>\n",
       "  </tbody>\n",
       "</table>\n",
       "<p>5 rows × 80 columns</p>\n",
       "</div>"
      ],
      "text/plain": [
       "        campaign_name        project_id project_name organization_id gender  \\\n",
       "0  bj_covid-19-impact  6055346049384448     COVID-19         premise   Male   \n",
       "1  bj_covid-19-impact  6055346049384448     COVID-19         premise   Male   \n",
       "2  bj_covid-19-impact  6055346049384448     COVID-19         premise   Male   \n",
       "3  bj_covid-19-impact  6055346049384448     COVID-19         premise   Male   \n",
       "4  bj_covid-19-impact  6055346049384448     COVID-19         premise   Male   \n",
       "\n",
       "                  age            geography  \\\n",
       "0  16 to 25 years old                Rural   \n",
       "1  16 to 25 years old                Rural   \n",
       "2  16 to 25 years old                Rural   \n",
       "3  16 to 25 years old  Suburban/Peri-urban   \n",
       "4  16 to 25 years old                Rural   \n",
       "\n",
       "                                 financial_situation              education  \\\n",
       "0  I can afford food and regular expenses, but no...  College or university   \n",
       "1  I can afford food and regular expenses, and bu...  College or university   \n",
       "2  I can afford food and regular expenses, but no...  College or university   \n",
       "3  I can afford food and regular expenses, but no...  College or university   \n",
       "4                I can afford food, but nothing else  College or university   \n",
       "\n",
       "    employment_status  ...  \\\n",
       "0             Student  ...   \n",
       "1             Student  ...   \n",
       "2  Employed part-time  ...   \n",
       "3             Student  ...   \n",
       "4             Student  ...   \n",
       "\n",
       "  how_have_you_been_getting_updates_on_covid_19_from_the_list_below_select_all_the_types_of_media_youu2019ve_been_relying_on_for_updates_as_coronavirus_cases_increase  \\\n",
       "0  Health Organizations (e.g. WHO, CDC, local hea...                                                                                                                     \n",
       "1  Local newspaper (or its website)^Local televis...                                                                                                                     \n",
       "2  Local newspaper (or its website)^Local radio^L...                                                                                                                     \n",
       "3                   Local newspaper (or its website)                                                                                                                     \n",
       "4  Local newspaper (or its website)^Local televis...                                                                                                                     \n",
       "\n",
       "  how_much_do_you_agree_with_the_following_statement_u201ci_am_well_informed_about_covid_19_and_understand_where_to_get_additional_informationu201d  \\\n",
       "0                         Neither agree nor disagree                                                                                                  \n",
       "1                                              Agree                                                                                                  \n",
       "2                                              Agree                                                                                                  \n",
       "3                                              Agree                                                                                                  \n",
       "4                                              Agree                                                                                                  \n",
       "\n",
       "  how_satisfied_are_you_with_the_media_coverage_of_covid_19  \\\n",
       "0                 Neither satisfied nor dissatisfied          \n",
       "1                                          Satisfied          \n",
       "2                                          Satisfied          \n",
       "3                                          Satisfied          \n",
       "4                 Neither satisfied nor dissatisfied          \n",
       "\n",
       "   in_the_past_6_months_have_you_heard_read_or_seen_any_information_or_messaging_that_highlights_the_downsides_of_a_covid_19_vaccine  \\\n",
       "0                                      did not exist                                                                                   \n",
       "1                                      did not exist                                                                                   \n",
       "2                                      did not exist                                                                                   \n",
       "3                                      did not exist                                                                                   \n",
       "4                                      did not exist                                                                                   \n",
       "\n",
       "   which_media_outlets_do_you_think_only_report_on_the_potential_disadvantages_of_a_covid_19_vaccine  \\\n",
       "0                                      did not exist                                                   \n",
       "1                                      did not exist                                                   \n",
       "2                                      did not exist                                                   \n",
       "3                                      did not exist                                                   \n",
       "4                                      did not exist                                                   \n",
       "\n",
       "   how_safe_do_you_believe_the_covid_19_vaccines_being_developed_now_are  \\\n",
       "0                                      did not exist                       \n",
       "1                                      did not exist                       \n",
       "2                                      did not exist                       \n",
       "3                                      did not exist                       \n",
       "4                                      did not exist                       \n",
       "\n",
       "   which_of_the_following_countries_do_you_feel_the_most_ready_to_receive_a_covid_19_vaccine_from  \\\n",
       "0                                      did not exist                                                \n",
       "1                                      did not exist                                                \n",
       "2                                      did not exist                                                \n",
       "3                                      did not exist                                                \n",
       "4                                      did not exist                                                \n",
       "\n",
       "  how_much_do_you_agree_with_the_following_statement_u201cvaccines_are_necessary_to_promote_herd_immunity_and_ensure_the_health_and_safety_of_everyone_in_the_community_including_immunocompromised_individuals_u201d  \\\n",
       "0                                      did not exist                                                                                                                                                                    \n",
       "1                                      did not exist                                                                                                                                                                    \n",
       "2                                      did not exist                                                                                                                                                                    \n",
       "3                                      did not exist                                                                                                                                                                    \n",
       "4                                      did not exist                                                                                                                                                                    \n",
       "\n",
       "  when_a_covid_19_vaccine_becomes_widely_publicly_available_how_likely_are_you_to_get_it  \\\n",
       "0                                      did not exist                                       \n",
       "1                                      did not exist                                       \n",
       "2                                      did not exist                                       \n",
       "3                                      did not exist                                       \n",
       "4                                      did not exist                                       \n",
       "\n",
       "  how_quickly_will_you_get_the_covid_19_vaccine  \n",
       "0                                 did not exist  \n",
       "1                                 did not exist  \n",
       "2                                 did not exist  \n",
       "3                                 did not exist  \n",
       "4                                 did not exist  \n",
       "\n",
       "[5 rows x 80 columns]"
      ]
     },
     "execution_count": 15,
     "metadata": {},
     "output_type": "execute_result"
    }
   ],
   "source": [
    "dataset.head()"
   ]
  },
  {
   "cell_type": "code",
   "execution_count": 22,
   "metadata": {},
   "outputs": [
    {
     "data": {
      "text/plain": [
       "Philippines     420096\n",
       "Afghanistan     210989\n",
       "Venezuela       120919\n",
       "Mali            103844\n",
       "Brazil          101269\n",
       "                 ...  \n",
       "Togo                 1\n",
       "Turkmenistan         1\n",
       "Andorra              1\n",
       "Libya                1\n",
       "Monaco               1\n",
       "Name: L0_name, Length: 128, dtype: int64"
      ]
     },
     "execution_count": 22,
     "metadata": {},
     "output_type": "execute_result"
    }
   ],
   "source": [
    "dataset['L0_name'].value_counts()"
   ]
  },
  {
   "cell_type": "code",
   "execution_count": 25,
   "metadata": {},
   "outputs": [],
   "source": [
    "data_Phi = dataset[dataset['L0_name']=='Philippines']"
   ]
  },
  {
   "cell_type": "code",
   "execution_count": 27,
   "metadata": {},
   "outputs": [
    {
     "data": {
      "text/plain": [
       "(420096, 80)"
      ]
     },
     "execution_count": 27,
     "metadata": {},
     "output_type": "execute_result"
    }
   ],
   "source": [
    "data_Phi.shape"
   ]
  },
  {
   "cell_type": "code",
   "execution_count": 39,
   "metadata": {},
   "outputs": [
    {
     "name": "stderr",
     "output_type": "stream",
     "text": [
      "C:\\Users\\Munkhbat\\anaconda3\\lib\\site-packages\\ipykernel_launcher.py:1: SettingWithCopyWarning: \n",
      "A value is trying to be set on a copy of a slice from a DataFrame.\n",
      "Try using .loc[row_indexer,col_indexer] = value instead\n",
      "\n",
      "See the caveats in the documentation: https://pandas.pydata.org/pandas-docs/stable/user_guide/indexing.html#returning-a-view-versus-a-copy\n",
      "  \"\"\"Entry point for launching an IPython kernel.\n"
     ]
    }
   ],
   "source": [
    "data_Phi['batch_date']=pd.to_datetime(data_Phi['batch_date'])"
   ]
  },
  {
   "cell_type": "code",
   "execution_count": 40,
   "metadata": {},
   "outputs": [
    {
     "data": {
      "text/plain": [
       "dtype('<M8[ns]')"
      ]
     },
     "execution_count": 40,
     "metadata": {},
     "output_type": "execute_result"
    }
   ],
   "source": [
    "data_Phi['batch_date'].dtypes"
   ]
  },
  {
   "cell_type": "code",
   "execution_count": 41,
   "metadata": {},
   "outputs": [
    {
     "data": {
      "text/plain": [
       "Very concerned                       134254\n",
       "Concerned                             91599\n",
       "Neither concerned nor unconcerned     45389\n",
       "Unconcerned                            2470\n",
       "Very unconcerned                       1584\n",
       "Name: how_concerned_are_you_about_your_access_to_adequate_health_care_services_should_you_contract_covid_19, dtype: int64"
      ]
     },
     "execution_count": 41,
     "metadata": {},
     "output_type": "execute_result"
    }
   ],
   "source": [
    "data_Phi['how_concerned_are_you_about_your_access_to_adequate_health_care_services_should_you_contract_covid_19'].value_counts()"
   ]
  },
  {
   "cell_type": "code",
   "execution_count": 43,
   "metadata": {},
   "outputs": [
    {
     "ename": "TypeError",
     "evalue": "Cannot compare types 'ndarray(dtype=float64)' and 'str'",
     "output_type": "error",
     "traceback": [
      "\u001b[1;31m---------------------------------------------------------------------------\u001b[0m",
      "\u001b[1;31mTypeError\u001b[0m                                 Traceback (most recent call last)",
      "\u001b[1;32m<ipython-input-43-f3698b9f48c3>\u001b[0m in \u001b[0;36m<module>\u001b[1;34m\u001b[0m\n\u001b[0;32m      2\u001b[0m \u001b[1;33m\u001b[0m\u001b[0m\n\u001b[0;32m      3\u001b[0m     \u001b[1;31m# Map feature values to scale\u001b[0m\u001b[1;33m\u001b[0m\u001b[1;33m\u001b[0m\u001b[1;33m\u001b[0m\u001b[0m\n\u001b[1;32m----> 4\u001b[1;33m \u001b[0mdata_Phi\u001b[0m\u001b[1;33m[\u001b[0m\u001b[1;34m'how_concerned_are_you_about_your_access_to_adequate_health_care_services_should_you_contract_covid_19'\u001b[0m\u001b[1;33m]\u001b[0m \u001b[1;33m=\u001b[0m \u001b[0mdata_Phi\u001b[0m\u001b[1;33m[\u001b[0m\u001b[1;34m'how_concerned_are_you_about_your_access_to_adequate_health_care_services_should_you_contract_covid_19'\u001b[0m\u001b[1;33m]\u001b[0m\u001b[1;33m.\u001b[0m\u001b[0mreplace\u001b[0m\u001b[1;33m(\u001b[0m\u001b[0mscale_mapper\u001b[0m\u001b[1;33m)\u001b[0m\u001b[1;33m\u001b[0m\u001b[1;33m\u001b[0m\u001b[0m\n\u001b[0m",
      "\u001b[1;32m~\\anaconda3\\lib\\site-packages\\pandas\\core\\series.py\u001b[0m in \u001b[0;36mreplace\u001b[1;34m(self, to_replace, value, inplace, limit, regex, method)\u001b[0m\n\u001b[0;32m   4176\u001b[0m             \u001b[0mlimit\u001b[0m\u001b[1;33m=\u001b[0m\u001b[0mlimit\u001b[0m\u001b[1;33m,\u001b[0m\u001b[1;33m\u001b[0m\u001b[1;33m\u001b[0m\u001b[0m\n\u001b[0;32m   4177\u001b[0m             \u001b[0mregex\u001b[0m\u001b[1;33m=\u001b[0m\u001b[0mregex\u001b[0m\u001b[1;33m,\u001b[0m\u001b[1;33m\u001b[0m\u001b[1;33m\u001b[0m\u001b[0m\n\u001b[1;32m-> 4178\u001b[1;33m             \u001b[0mmethod\u001b[0m\u001b[1;33m=\u001b[0m\u001b[0mmethod\u001b[0m\u001b[1;33m,\u001b[0m\u001b[1;33m\u001b[0m\u001b[1;33m\u001b[0m\u001b[0m\n\u001b[0m\u001b[0;32m   4179\u001b[0m         )\n\u001b[0;32m   4180\u001b[0m \u001b[1;33m\u001b[0m\u001b[0m\n",
      "\u001b[1;32m~\\anaconda3\\lib\\site-packages\\pandas\\core\\generic.py\u001b[0m in \u001b[0;36mreplace\u001b[1;34m(self, to_replace, value, inplace, limit, regex, method)\u001b[0m\n\u001b[0;32m   6644\u001b[0m \u001b[1;33m\u001b[0m\u001b[0m\n\u001b[0;32m   6645\u001b[0m             return self.replace(\n\u001b[1;32m-> 6646\u001b[1;33m                 \u001b[0mto_replace\u001b[0m\u001b[1;33m,\u001b[0m \u001b[0mvalue\u001b[0m\u001b[1;33m,\u001b[0m \u001b[0minplace\u001b[0m\u001b[1;33m=\u001b[0m\u001b[0minplace\u001b[0m\u001b[1;33m,\u001b[0m \u001b[0mlimit\u001b[0m\u001b[1;33m=\u001b[0m\u001b[0mlimit\u001b[0m\u001b[1;33m,\u001b[0m \u001b[0mregex\u001b[0m\u001b[1;33m=\u001b[0m\u001b[0mregex\u001b[0m\u001b[1;33m\u001b[0m\u001b[1;33m\u001b[0m\u001b[0m\n\u001b[0m\u001b[0;32m   6647\u001b[0m             )\n\u001b[0;32m   6648\u001b[0m         \u001b[1;32melse\u001b[0m\u001b[1;33m:\u001b[0m\u001b[1;33m\u001b[0m\u001b[1;33m\u001b[0m\u001b[0m\n",
      "\u001b[1;32m~\\anaconda3\\lib\\site-packages\\pandas\\core\\series.py\u001b[0m in \u001b[0;36mreplace\u001b[1;34m(self, to_replace, value, inplace, limit, regex, method)\u001b[0m\n\u001b[0;32m   4176\u001b[0m             \u001b[0mlimit\u001b[0m\u001b[1;33m=\u001b[0m\u001b[0mlimit\u001b[0m\u001b[1;33m,\u001b[0m\u001b[1;33m\u001b[0m\u001b[1;33m\u001b[0m\u001b[0m\n\u001b[0;32m   4177\u001b[0m             \u001b[0mregex\u001b[0m\u001b[1;33m=\u001b[0m\u001b[0mregex\u001b[0m\u001b[1;33m,\u001b[0m\u001b[1;33m\u001b[0m\u001b[1;33m\u001b[0m\u001b[0m\n\u001b[1;32m-> 4178\u001b[1;33m             \u001b[0mmethod\u001b[0m\u001b[1;33m=\u001b[0m\u001b[0mmethod\u001b[0m\u001b[1;33m,\u001b[0m\u001b[1;33m\u001b[0m\u001b[1;33m\u001b[0m\u001b[0m\n\u001b[0m\u001b[0;32m   4179\u001b[0m         )\n\u001b[0;32m   4180\u001b[0m \u001b[1;33m\u001b[0m\u001b[0m\n",
      "\u001b[1;32m~\\anaconda3\\lib\\site-packages\\pandas\\core\\generic.py\u001b[0m in \u001b[0;36mreplace\u001b[1;34m(self, to_replace, value, inplace, limit, regex, method)\u001b[0m\n\u001b[0;32m   6697\u001b[0m                         \u001b[0mdest_list\u001b[0m\u001b[1;33m=\u001b[0m\u001b[0mvalue\u001b[0m\u001b[1;33m,\u001b[0m\u001b[1;33m\u001b[0m\u001b[1;33m\u001b[0m\u001b[0m\n\u001b[0;32m   6698\u001b[0m                         \u001b[0minplace\u001b[0m\u001b[1;33m=\u001b[0m\u001b[0minplace\u001b[0m\u001b[1;33m,\u001b[0m\u001b[1;33m\u001b[0m\u001b[1;33m\u001b[0m\u001b[0m\n\u001b[1;32m-> 6699\u001b[1;33m                         \u001b[0mregex\u001b[0m\u001b[1;33m=\u001b[0m\u001b[0mregex\u001b[0m\u001b[1;33m,\u001b[0m\u001b[1;33m\u001b[0m\u001b[1;33m\u001b[0m\u001b[0m\n\u001b[0m\u001b[0;32m   6700\u001b[0m                     )\n\u001b[0;32m   6701\u001b[0m \u001b[1;33m\u001b[0m\u001b[0m\n",
      "\u001b[1;32m~\\anaconda3\\lib\\site-packages\\pandas\\core\\internals\\managers.py\u001b[0m in \u001b[0;36mreplace_list\u001b[1;34m(self, src_list, dest_list, inplace, regex)\u001b[0m\n\u001b[0;32m    611\u001b[0m             \u001b[1;32mreturn\u001b[0m \u001b[0m_compare_or_regex_search\u001b[0m\u001b[1;33m(\u001b[0m\u001b[0mvalues\u001b[0m\u001b[1;33m,\u001b[0m \u001b[0ms\u001b[0m\u001b[1;33m,\u001b[0m \u001b[0mregex\u001b[0m\u001b[1;33m)\u001b[0m\u001b[1;33m\u001b[0m\u001b[1;33m\u001b[0m\u001b[0m\n\u001b[0;32m    612\u001b[0m \u001b[1;33m\u001b[0m\u001b[0m\n\u001b[1;32m--> 613\u001b[1;33m         \u001b[0mmasks\u001b[0m \u001b[1;33m=\u001b[0m \u001b[1;33m[\u001b[0m\u001b[0mcomp\u001b[0m\u001b[1;33m(\u001b[0m\u001b[0ms\u001b[0m\u001b[1;33m,\u001b[0m \u001b[0mregex\u001b[0m\u001b[1;33m)\u001b[0m \u001b[1;32mfor\u001b[0m \u001b[0mi\u001b[0m\u001b[1;33m,\u001b[0m \u001b[0ms\u001b[0m \u001b[1;32min\u001b[0m \u001b[0menumerate\u001b[0m\u001b[1;33m(\u001b[0m\u001b[0msrc_list\u001b[0m\u001b[1;33m)\u001b[0m\u001b[1;33m]\u001b[0m\u001b[1;33m\u001b[0m\u001b[1;33m\u001b[0m\u001b[0m\n\u001b[0m\u001b[0;32m    614\u001b[0m \u001b[1;33m\u001b[0m\u001b[0m\n\u001b[0;32m    615\u001b[0m         \u001b[0mresult_blocks\u001b[0m \u001b[1;33m=\u001b[0m \u001b[1;33m[\u001b[0m\u001b[1;33m]\u001b[0m\u001b[1;33m\u001b[0m\u001b[1;33m\u001b[0m\u001b[0m\n",
      "\u001b[1;32m~\\anaconda3\\lib\\site-packages\\pandas\\core\\internals\\managers.py\u001b[0m in \u001b[0;36m<listcomp>\u001b[1;34m(.0)\u001b[0m\n\u001b[0;32m    611\u001b[0m             \u001b[1;32mreturn\u001b[0m \u001b[0m_compare_or_regex_search\u001b[0m\u001b[1;33m(\u001b[0m\u001b[0mvalues\u001b[0m\u001b[1;33m,\u001b[0m \u001b[0ms\u001b[0m\u001b[1;33m,\u001b[0m \u001b[0mregex\u001b[0m\u001b[1;33m)\u001b[0m\u001b[1;33m\u001b[0m\u001b[1;33m\u001b[0m\u001b[0m\n\u001b[0;32m    612\u001b[0m \u001b[1;33m\u001b[0m\u001b[0m\n\u001b[1;32m--> 613\u001b[1;33m         \u001b[0mmasks\u001b[0m \u001b[1;33m=\u001b[0m \u001b[1;33m[\u001b[0m\u001b[0mcomp\u001b[0m\u001b[1;33m(\u001b[0m\u001b[0ms\u001b[0m\u001b[1;33m,\u001b[0m \u001b[0mregex\u001b[0m\u001b[1;33m)\u001b[0m \u001b[1;32mfor\u001b[0m \u001b[0mi\u001b[0m\u001b[1;33m,\u001b[0m \u001b[0ms\u001b[0m \u001b[1;32min\u001b[0m \u001b[0menumerate\u001b[0m\u001b[1;33m(\u001b[0m\u001b[0msrc_list\u001b[0m\u001b[1;33m)\u001b[0m\u001b[1;33m]\u001b[0m\u001b[1;33m\u001b[0m\u001b[1;33m\u001b[0m\u001b[0m\n\u001b[0m\u001b[0;32m    614\u001b[0m \u001b[1;33m\u001b[0m\u001b[0m\n\u001b[0;32m    615\u001b[0m         \u001b[0mresult_blocks\u001b[0m \u001b[1;33m=\u001b[0m \u001b[1;33m[\u001b[0m\u001b[1;33m]\u001b[0m\u001b[1;33m\u001b[0m\u001b[1;33m\u001b[0m\u001b[0m\n",
      "\u001b[1;32m~\\anaconda3\\lib\\site-packages\\pandas\\core\\internals\\managers.py\u001b[0m in \u001b[0;36mcomp\u001b[1;34m(s, regex)\u001b[0m\n\u001b[0;32m    609\u001b[0m                     \u001b[0mmaybe_convert_objects\u001b[0m\u001b[1;33m(\u001b[0m\u001b[0mvalues\u001b[0m\u001b[1;33m)\u001b[0m\u001b[1;33m,\u001b[0m \u001b[0ms\u001b[0m\u001b[1;33m.\u001b[0m\u001b[0masm8\u001b[0m\u001b[1;33m,\u001b[0m \u001b[0mregex\u001b[0m\u001b[1;33m\u001b[0m\u001b[1;33m\u001b[0m\u001b[0m\n\u001b[0;32m    610\u001b[0m                 )\n\u001b[1;32m--> 611\u001b[1;33m             \u001b[1;32mreturn\u001b[0m \u001b[0m_compare_or_regex_search\u001b[0m\u001b[1;33m(\u001b[0m\u001b[0mvalues\u001b[0m\u001b[1;33m,\u001b[0m \u001b[0ms\u001b[0m\u001b[1;33m,\u001b[0m \u001b[0mregex\u001b[0m\u001b[1;33m)\u001b[0m\u001b[1;33m\u001b[0m\u001b[1;33m\u001b[0m\u001b[0m\n\u001b[0m\u001b[0;32m    612\u001b[0m \u001b[1;33m\u001b[0m\u001b[0m\n\u001b[0;32m    613\u001b[0m         \u001b[0mmasks\u001b[0m \u001b[1;33m=\u001b[0m \u001b[1;33m[\u001b[0m\u001b[0mcomp\u001b[0m\u001b[1;33m(\u001b[0m\u001b[0ms\u001b[0m\u001b[1;33m,\u001b[0m \u001b[0mregex\u001b[0m\u001b[1;33m)\u001b[0m \u001b[1;32mfor\u001b[0m \u001b[0mi\u001b[0m\u001b[1;33m,\u001b[0m \u001b[0ms\u001b[0m \u001b[1;32min\u001b[0m \u001b[0menumerate\u001b[0m\u001b[1;33m(\u001b[0m\u001b[0msrc_list\u001b[0m\u001b[1;33m)\u001b[0m\u001b[1;33m]\u001b[0m\u001b[1;33m\u001b[0m\u001b[1;33m\u001b[0m\u001b[0m\n",
      "\u001b[1;32m~\\anaconda3\\lib\\site-packages\\pandas\\core\\internals\\managers.py\u001b[0m in \u001b[0;36m_compare_or_regex_search\u001b[1;34m(a, b, regex)\u001b[0m\n\u001b[0;32m   1934\u001b[0m \u001b[1;33m\u001b[0m\u001b[0m\n\u001b[0;32m   1935\u001b[0m         raise TypeError(\n\u001b[1;32m-> 1936\u001b[1;33m             \u001b[1;34mf\"Cannot compare types {repr(type_names[0])} and {repr(type_names[1])}\"\u001b[0m\u001b[1;33m\u001b[0m\u001b[1;33m\u001b[0m\u001b[0m\n\u001b[0m\u001b[0;32m   1937\u001b[0m         )\n\u001b[0;32m   1938\u001b[0m     \u001b[1;32mreturn\u001b[0m \u001b[0mresult\u001b[0m\u001b[1;33m\u001b[0m\u001b[1;33m\u001b[0m\u001b[0m\n",
      "\u001b[1;31mTypeError\u001b[0m: Cannot compare types 'ndarray(dtype=float64)' and 'str'"
     ]
    }
   ],
   "source": [
    "scale_mapper = {'Very concerned':5, 'Concerned':4, 'Neither concerned nor unconcerned':3,'Unconcerned':2,'Very unconcerned':1}\n",
    "\n",
    "    # Map feature values to scale\n",
    "data_Phi['how_concerned_are_you_about_your_access_to_adequate_health_care_services_should_you_contract_covid_19'] = data_Phi['how_concerned_are_you_about_your_access_to_adequate_health_care_services_should_you_contract_covid_19'].replace(scale_mapper)"
   ]
  },
  {
   "cell_type": "code",
   "execution_count": 44,
   "metadata": {},
   "outputs": [
    {
     "data": {
      "text/plain": [
       "5.0    134254\n",
       "4.0     91599\n",
       "3.0     45389\n",
       "2.0      2470\n",
       "1.0      1584\n",
       "Name: how_concerned_are_you_about_your_access_to_adequate_health_care_services_should_you_contract_covid_19, dtype: int64"
      ]
     },
     "execution_count": 44,
     "metadata": {},
     "output_type": "execute_result"
    }
   ],
   "source": [
    "data_Phi['how_concerned_are_you_about_your_access_to_adequate_health_care_services_should_you_contract_covid_19'].value_counts()"
   ]
  },
  {
   "cell_type": "code",
   "execution_count": null,
   "metadata": {},
   "outputs": [],
   "source": []
  }
 ],
 "metadata": {
  "kernelspec": {
   "display_name": "Python 3",
   "language": "python",
   "name": "python3"
  },
  "language_info": {
   "codemirror_mode": {
    "name": "ipython",
    "version": 3
   },
   "file_extension": ".py",
   "mimetype": "text/x-python",
   "name": "python",
   "nbconvert_exporter": "python",
   "pygments_lexer": "ipython3",
   "version": "3.8.5"
  }
 },
 "nbformat": 4,
 "nbformat_minor": 4
}
