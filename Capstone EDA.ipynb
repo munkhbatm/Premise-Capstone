{
 "cells": [
  {
   "cell_type": "code",
   "execution_count": 1,
   "metadata": {},
   "outputs": [],
   "source": [
    "import numpy as np\n",
    "import matplotlib.pyplot as plt\n",
    "import pandas as pd"
   ]
  },
  {
   "cell_type": "code",
   "execution_count": 2,
   "metadata": {},
   "outputs": [],
   "source": [
    "dataset = pd.read_csv('covid.csv')"
   ]
  },
  {
   "cell_type": "code",
   "execution_count": 10,
   "metadata": {},
   "outputs": [],
   "source": [
    "dataset = dataset.iloc[:,9:]"
   ]
  },
  {
   "cell_type": "code",
   "execution_count": 11,
   "metadata": {},
   "outputs": [
    {
     "data": {
      "text/plain": [
       "(2866985, 80)"
      ]
     },
     "execution_count": 11,
     "metadata": {},
     "output_type": "execute_result"
    }
   ],
   "source": [
    "dataset.shape"
   ]
  },
  {
   "cell_type": "code",
   "execution_count": 12,
   "metadata": {},
   "outputs": [
    {
     "data": {
      "text/plain": [
       "Index(['campaign_name', 'project_id', 'project_name', 'organization_id',\n",
       "       'gender', 'age', 'geography', 'financial_situation', 'education',\n",
       "       'employment_status', 'ethnicity', 'religion', 'batch_date',\n",
       "       'location_feature_id', 'location_feature_name', 'observation_lat',\n",
       "       'observation_lon', 'HASC_code', 'L0_name', 'L1_name', 'L2_name',\n",
       "       'intro_input',\n",
       "       'the_following_questions_will_ask_you_about_the_spread_of_covid_19_in_your_area',\n",
       "       'how_concerned_are_you_about_the_spread_of_covid_19_in_your_community',\n",
       "       'have_you_personally_contracted_covid_19',\n",
       "       'did_you_seek_medical_care_to_treat_covid_19',\n",
       "       'how_satisfied_were_you_with_the_level_of_care_you_received',\n",
       "       'how_confident_are_you_that_you_are_immune_should_a_\"second_wave\"_emerge_in_the_future',\n",
       "       'why_were_you_not_tested',\n",
       "       'how_concerned_are_you_that_you_personally_will_contract_covid_19',\n",
       "       'how_concerned_are_you_about_your_access_to_adequate_health_care_services_should_you_contract_covid_19',\n",
       "       'do_you_know_if_testing_for_coronavirus_is_available_in_your_city',\n",
       "       'what_kind_of_locations_or_facilities_are_offering_testing_in_your_city',\n",
       "       'the_following_questions_will_ask_you_about_the_government_response_to_and_economic_impact_of_the_covid_19_pandemic_in_your_area',\n",
       "       'which_of_the_following_statements_best_describes_your_attitude_towards_your_local_town_or_municipality_governmentu2019s_response_to_covid_19_my_local_government_hasu2026',\n",
       "       'do_you_trust_your_local_or_national_government_to_make_more_effective_decisions_regarding_covid_19',\n",
       "       'are_non_essential_businesses_in_your_area_closed',\n",
       "       'are_non_essential_businesses_closed_by_declaration_of_authorities_or_voluntarily',\n",
       "       'when_do_you_believe_non_essential_businesses_should_open_in_your_area',\n",
       "       'what_do_you_think_of_the_timing_of_the_decision_to_re_open_non_essential_businesses_in_your_area',\n",
       "       'which_of_the_following_activities_will_you_feel_comfortable_with_now_or_immediately_after_non_essential_businesses_re_open',\n",
       "       'when_do_you_anticipate_feeling_comfortable_shopping_at_non_essential_stores',\n",
       "       'when_do_you_anticipate_feeling_comfortable_shopping_at_nonessential_stores_copy',\n",
       "       'when_do_you_anticipate_feeling_comfortable_riding_public_transportation',\n",
       "       'when_do_you_anticipate_feeling_comfortable_traveling_by_airplane',\n",
       "       'how_difficult_has_it_been_for_you_to_find_groceries_and_other_items',\n",
       "       'which_of_the_following_categories_of_items_were_difficult_or_impossible_to_find',\n",
       "       'from_which_of_the_following_places_have_you_purchased_or_looked_for_food_and_other_supplies',\n",
       "       'have_you_or_a_family_member_been_affected_by_price_gouging_for_goods_and_services_related_to_the_coronavirus_covid_19',\n",
       "       'how_concerned_are_you_about_the_long_term_negative_impacts_the_coronavirus_could_have_on_your_national_economy',\n",
       "       'how_long_do_you_believe_it_will_take_for_your_local_economy_to_rebound_to_its_pre_covid_19_status',\n",
       "       'the_following_questions_will_ask_you_about_the_impact_of_the_covid_19_pandemic_on_your_day_to_day_life_and_personal_finances',\n",
       "       'has_your_income_been_at_all_affected_by_the_covid_19_pandemic',\n",
       "       'in_the_past_week_how_much_did_you_reduce_the_number_of_hours_worked_compared_to_a_typical_week',\n",
       "       'how_long_do_you_believe_it_will_take_for_your_income_to_reach_its_pre_covid_19_levels',\n",
       "       'how_concerned_are_you_that_your_economic_situation_will_be_negatively_impacted_in_the_next_30_days_as_a_result_of_a_change_in_economic_activity',\n",
       "       'have_you_left_or_are_you_planning_to_leave_your_home_today',\n",
       "       'why_did_you_or_are_you_planning_to_leave_your_home_today',\n",
       "       'when_you_leave_your_home_do_you_typically_wear_a_face_mask',\n",
       "       'why_do_you_not_wear_a_mask_when_you_leave_your_home',\n",
       "       'one_last_question_what_do_you_think_has_negatively_impacted_your_daily_life_most_because_of_covid_19',\n",
       "       'do_you_have_school_aged_children_living_in_your_household',\n",
       "       'has_their_school_closed_due_to_covid_19',\n",
       "       'what_do_you_think_of_the_decision_to_re_open_schools_in_your_area',\n",
       "       'have_you_canceled_or_altered_travel_plans_because_of_the_coronavirus_covid_19',\n",
       "       'have_you_been_practicing_social_distancing_when_you_leave_the_house',\n",
       "       'which_of_the_following_factors_have_inclined_you_to_not_closely_follow_the_guidance_of_social_distancing',\n",
       "       'which_of_the_following_behaviors_are_you_or_do_you_expect_to_demonstrate_in_public_once_non_essential_businesses_re_open',\n",
       "       'how_much_of_an_impact_do_you_believe_the_covid_19_pandemic_and_subsequent_quarantine_measures_have_had_on_your_mental_and_emotional_health',\n",
       "       'finally_this_last_group_of_questions_will_ask_you_about_how_you_receive_information_about_covid_19',\n",
       "       'how_have_you_been_getting_updates_on_covid_19_from_the_list_below_select_all_the_types_of_media_youu2019ve_been_relying_on_for_updates_as_coronavirus_cases_increase',\n",
       "       'how_much_do_you_agree_with_the_following_statement_u201ci_am_well_informed_about_covid_19_and_understand_where_to_get_additional_informationu201d',\n",
       "       'how_satisfied_are_you_with_the_media_coverage_of_covid_19',\n",
       "       'in_the_past_6_months_have_you_heard_read_or_seen_any_information_or_messaging_that_highlights_the_downsides_of_a_covid_19_vaccine',\n",
       "       'which_media_outlets_do_you_think_only_report_on_the_potential_disadvantages_of_a_covid_19_vaccine',\n",
       "       'how_safe_do_you_believe_the_covid_19_vaccines_being_developed_now_are',\n",
       "       'which_of_the_following_countries_do_you_feel_the_most_ready_to_receive_a_covid_19_vaccine_from',\n",
       "       'how_much_do_you_agree_with_the_following_statement_u201cvaccines_are_necessary_to_promote_herd_immunity_and_ensure_the_health_and_safety_of_everyone_in_the_community_including_immunocompromised_individuals_u201d',\n",
       "       'when_a_covid_19_vaccine_becomes_widely_publicly_available_how_likely_are_you_to_get_it',\n",
       "       'how_quickly_will_you_get_the_covid_19_vaccine'],\n",
       "      dtype='object')"
      ]
     },
     "execution_count": 12,
     "metadata": {},
     "output_type": "execute_result"
    }
   ],
   "source": [
    "dataset.columns"
   ]
  },
  {
   "cell_type": "code",
   "execution_count": null,
   "metadata": {},
   "outputs": [],
   "source": []
  }
 ],
 "metadata": {
  "kernelspec": {
   "display_name": "Python 3",
   "language": "python",
   "name": "python3"
  },
  "language_info": {
   "codemirror_mode": {
    "name": "ipython",
    "version": 3
   },
   "file_extension": ".py",
   "mimetype": "text/x-python",
   "name": "python",
   "nbconvert_exporter": "python",
   "pygments_lexer": "ipython3",
   "version": "3.7.6"
  }
 },
 "nbformat": 4,
 "nbformat_minor": 4
}
