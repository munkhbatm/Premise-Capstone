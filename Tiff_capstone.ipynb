{
 "cells": [
  {
   "cell_type": "code",
   "execution_count": 34,
   "metadata": {},
   "outputs": [],
   "source": [
    "import pandas as pd \n",
    "import numpy as np\n",
    "import numpy.linalg as nlg\n",
    "import seaborn as sns\n",
    "import matplotlib.pyplot as plt\n",
    "from sklearn.decomposition import FactorAnalysis\n",
    "from sklearn.preprocessing import StandardScaler\n",
    "from factor_analyzer import FactorAnalyzer, calculate_kmo, calculate_bartlett_sphericity  \n",
    "from scipy.stats import bartlett\n"
   ]
  },
  {
   "cell_type": "code",
   "execution_count": 2,
   "metadata": {},
   "outputs": [],
   "source": [
    "data = pd.read_csv('covid_data.csv')"
   ]
  },
  {
   "cell_type": "code",
   "execution_count": 3,
   "metadata": {},
   "outputs": [
    {
     "data": {
      "text/html": [
       "<div>\n",
       "<style scoped>\n",
       "    .dataframe tbody tr th:only-of-type {\n",
       "        vertical-align: middle;\n",
       "    }\n",
       "\n",
       "    .dataframe tbody tr th {\n",
       "        vertical-align: top;\n",
       "    }\n",
       "\n",
       "    .dataframe thead th {\n",
       "        text-align: right;\n",
       "    }\n",
       "</style>\n",
       "<table border=\"1\" class=\"dataframe\">\n",
       "  <thead>\n",
       "    <tr style=\"text-align: right;\">\n",
       "      <th></th>\n",
       "      <th>submission_id</th>\n",
       "      <th>observation_id</th>\n",
       "      <th>observed_time</th>\n",
       "      <th>user_id</th>\n",
       "      <th>form_id</th>\n",
       "      <th>form_version</th>\n",
       "      <th>form_name</th>\n",
       "      <th>form_tier</th>\n",
       "      <th>campaign_id</th>\n",
       "      <th>campaign_name</th>\n",
       "      <th>...</th>\n",
       "      <th>how_have_you_been_getting_updates_on_covid_19_from_the_list_below_select_all_the_types_of_media_youu2019ve_been_relying_on_for_updates_as_coronavirus_cases_increase</th>\n",
       "      <th>how_much_do_you_agree_with_the_following_statement_u201ci_am_well_informed_about_covid_19_and_understand_where_to_get_additional_informationu201d</th>\n",
       "      <th>how_satisfied_are_you_with_the_media_coverage_of_covid_19</th>\n",
       "      <th>in_the_past_6_months_have_you_heard_read_or_seen_any_information_or_messaging_that_highlights_the_downsides_of_a_covid_19_vaccine</th>\n",
       "      <th>which_media_outlets_do_you_think_only_report_on_the_potential_disadvantages_of_a_covid_19_vaccine</th>\n",
       "      <th>how_safe_do_you_believe_the_covid_19_vaccines_being_developed_now_are</th>\n",
       "      <th>which_of_the_following_countries_do_you_feel_the_most_ready_to_receive_a_covid_19_vaccine_from</th>\n",
       "      <th>how_much_do_you_agree_with_the_following_statement_u201cvaccines_are_necessary_to_promote_herd_immunity_and_ensure_the_health_and_safety_of_everyone_in_the_community_including_immunocompromised_individuals_u201d</th>\n",
       "      <th>when_a_covid_19_vaccine_becomes_widely_publicly_available_how_likely_are_you_to_get_it</th>\n",
       "      <th>how_quickly_will_you_get_the_covid_19_vaccine</th>\n",
       "    </tr>\n",
       "  </thead>\n",
       "  <tbody>\n",
       "    <tr>\n",
       "      <th>0</th>\n",
       "      <td>6639385295716352</td>\n",
       "      <td>6639385295716352</td>\n",
       "      <td>2020-07-29 11:31:42.584 UTC</td>\n",
       "      <td>4511945684418560</td>\n",
       "      <td>4850691271294976</td>\n",
       "      <td>102</td>\n",
       "      <td>COVID-19 Impact</td>\n",
       "      <td>1</td>\n",
       "      <td>6683622704939008</td>\n",
       "      <td>bj_covid-19-impact</td>\n",
       "      <td>...</td>\n",
       "      <td>Health Organizations (e.g. WHO, CDC, local hea...</td>\n",
       "      <td>Neither agree nor disagree</td>\n",
       "      <td>Neither satisfied nor dissatisfied</td>\n",
       "      <td>did not exist</td>\n",
       "      <td>did not exist</td>\n",
       "      <td>did not exist</td>\n",
       "      <td>did not exist</td>\n",
       "      <td>did not exist</td>\n",
       "      <td>did not exist</td>\n",
       "      <td>did not exist</td>\n",
       "    </tr>\n",
       "    <tr>\n",
       "      <th>1</th>\n",
       "      <td>6400325797019648</td>\n",
       "      <td>6400325797019648</td>\n",
       "      <td>2020-10-02 17:47:36.835 UTC</td>\n",
       "      <td>5821834429988864</td>\n",
       "      <td>4850691271294976</td>\n",
       "      <td>102</td>\n",
       "      <td>COVID-19 Impact</td>\n",
       "      <td>1</td>\n",
       "      <td>6683622704939008</td>\n",
       "      <td>bj_covid-19-impact</td>\n",
       "      <td>...</td>\n",
       "      <td>Local newspaper (or its website)^Local televis...</td>\n",
       "      <td>Agree</td>\n",
       "      <td>Satisfied</td>\n",
       "      <td>did not exist</td>\n",
       "      <td>did not exist</td>\n",
       "      <td>did not exist</td>\n",
       "      <td>did not exist</td>\n",
       "      <td>did not exist</td>\n",
       "      <td>did not exist</td>\n",
       "      <td>did not exist</td>\n",
       "    </tr>\n",
       "    <tr>\n",
       "      <th>2</th>\n",
       "      <td>4534453236137984</td>\n",
       "      <td>4534453236137984</td>\n",
       "      <td>2020-05-05 20:59:35.722 UTC</td>\n",
       "      <td>4695912256897024</td>\n",
       "      <td>4850691271294976</td>\n",
       "      <td>102</td>\n",
       "      <td>COVID-19 Impact</td>\n",
       "      <td>1</td>\n",
       "      <td>6683622704939008</td>\n",
       "      <td>bj_covid-19-impact</td>\n",
       "      <td>...</td>\n",
       "      <td>Local newspaper (or its website)^Local radio^L...</td>\n",
       "      <td>Agree</td>\n",
       "      <td>Satisfied</td>\n",
       "      <td>did not exist</td>\n",
       "      <td>did not exist</td>\n",
       "      <td>did not exist</td>\n",
       "      <td>did not exist</td>\n",
       "      <td>did not exist</td>\n",
       "      <td>did not exist</td>\n",
       "      <td>did not exist</td>\n",
       "    </tr>\n",
       "    <tr>\n",
       "      <th>3</th>\n",
       "      <td>5919602254282752</td>\n",
       "      <td>5919602254282752</td>\n",
       "      <td>2020-09-23 21:57:33.928 UTC</td>\n",
       "      <td>5140769135919104</td>\n",
       "      <td>4850691271294976</td>\n",
       "      <td>102</td>\n",
       "      <td>COVID-19 Impact</td>\n",
       "      <td>1</td>\n",
       "      <td>6683622704939008</td>\n",
       "      <td>bj_covid-19-impact</td>\n",
       "      <td>...</td>\n",
       "      <td>Local newspaper (or its website)</td>\n",
       "      <td>Agree</td>\n",
       "      <td>Satisfied</td>\n",
       "      <td>did not exist</td>\n",
       "      <td>did not exist</td>\n",
       "      <td>did not exist</td>\n",
       "      <td>did not exist</td>\n",
       "      <td>did not exist</td>\n",
       "      <td>did not exist</td>\n",
       "      <td>did not exist</td>\n",
       "    </tr>\n",
       "    <tr>\n",
       "      <th>4</th>\n",
       "      <td>6163379149602816</td>\n",
       "      <td>6163379149602816</td>\n",
       "      <td>2020-12-02 07:34:41.194 UTC</td>\n",
       "      <td>5108927901728768</td>\n",
       "      <td>4850691271294976</td>\n",
       "      <td>102</td>\n",
       "      <td>COVID-19 Impact</td>\n",
       "      <td>1</td>\n",
       "      <td>6683622704939008</td>\n",
       "      <td>bj_covid-19-impact</td>\n",
       "      <td>...</td>\n",
       "      <td>Local newspaper (or its website)^Local televis...</td>\n",
       "      <td>Agree</td>\n",
       "      <td>Neither satisfied nor dissatisfied</td>\n",
       "      <td>did not exist</td>\n",
       "      <td>did not exist</td>\n",
       "      <td>did not exist</td>\n",
       "      <td>did not exist</td>\n",
       "      <td>did not exist</td>\n",
       "      <td>did not exist</td>\n",
       "      <td>did not exist</td>\n",
       "    </tr>\n",
       "  </tbody>\n",
       "</table>\n",
       "<p>5 rows × 89 columns</p>\n",
       "</div>"
      ],
      "text/plain": [
       "      submission_id    observation_id                observed_time  \\\n",
       "0  6639385295716352  6639385295716352  2020-07-29 11:31:42.584 UTC   \n",
       "1  6400325797019648  6400325797019648  2020-10-02 17:47:36.835 UTC   \n",
       "2  4534453236137984  4534453236137984  2020-05-05 20:59:35.722 UTC   \n",
       "3  5919602254282752  5919602254282752  2020-09-23 21:57:33.928 UTC   \n",
       "4  6163379149602816  6163379149602816  2020-12-02 07:34:41.194 UTC   \n",
       "\n",
       "            user_id           form_id  form_version        form_name  \\\n",
       "0  4511945684418560  4850691271294976           102  COVID-19 Impact   \n",
       "1  5821834429988864  4850691271294976           102  COVID-19 Impact   \n",
       "2  4695912256897024  4850691271294976           102  COVID-19 Impact   \n",
       "3  5140769135919104  4850691271294976           102  COVID-19 Impact   \n",
       "4  5108927901728768  4850691271294976           102  COVID-19 Impact   \n",
       "\n",
       "   form_tier       campaign_id       campaign_name  ...  \\\n",
       "0          1  6683622704939008  bj_covid-19-impact  ...   \n",
       "1          1  6683622704939008  bj_covid-19-impact  ...   \n",
       "2          1  6683622704939008  bj_covid-19-impact  ...   \n",
       "3          1  6683622704939008  bj_covid-19-impact  ...   \n",
       "4          1  6683622704939008  bj_covid-19-impact  ...   \n",
       "\n",
       "   how_have_you_been_getting_updates_on_covid_19_from_the_list_below_select_all_the_types_of_media_youu2019ve_been_relying_on_for_updates_as_coronavirus_cases_increase  \\\n",
       "0  Health Organizations (e.g. WHO, CDC, local hea...                                                                                                                      \n",
       "1  Local newspaper (or its website)^Local televis...                                                                                                                      \n",
       "2  Local newspaper (or its website)^Local radio^L...                                                                                                                      \n",
       "3                   Local newspaper (or its website)                                                                                                                      \n",
       "4  Local newspaper (or its website)^Local televis...                                                                                                                      \n",
       "\n",
       "  how_much_do_you_agree_with_the_following_statement_u201ci_am_well_informed_about_covid_19_and_understand_where_to_get_additional_informationu201d  \\\n",
       "0                         Neither agree nor disagree                                                                                                  \n",
       "1                                              Agree                                                                                                  \n",
       "2                                              Agree                                                                                                  \n",
       "3                                              Agree                                                                                                  \n",
       "4                                              Agree                                                                                                  \n",
       "\n",
       "  how_satisfied_are_you_with_the_media_coverage_of_covid_19  \\\n",
       "0                 Neither satisfied nor dissatisfied          \n",
       "1                                          Satisfied          \n",
       "2                                          Satisfied          \n",
       "3                                          Satisfied          \n",
       "4                 Neither satisfied nor dissatisfied          \n",
       "\n",
       "  in_the_past_6_months_have_you_heard_read_or_seen_any_information_or_messaging_that_highlights_the_downsides_of_a_covid_19_vaccine  \\\n",
       "0                                      did not exist                                                                                  \n",
       "1                                      did not exist                                                                                  \n",
       "2                                      did not exist                                                                                  \n",
       "3                                      did not exist                                                                                  \n",
       "4                                      did not exist                                                                                  \n",
       "\n",
       "  which_media_outlets_do_you_think_only_report_on_the_potential_disadvantages_of_a_covid_19_vaccine  \\\n",
       "0                                      did not exist                                                  \n",
       "1                                      did not exist                                                  \n",
       "2                                      did not exist                                                  \n",
       "3                                      did not exist                                                  \n",
       "4                                      did not exist                                                  \n",
       "\n",
       "  how_safe_do_you_believe_the_covid_19_vaccines_being_developed_now_are  \\\n",
       "0                                      did not exist                      \n",
       "1                                      did not exist                      \n",
       "2                                      did not exist                      \n",
       "3                                      did not exist                      \n",
       "4                                      did not exist                      \n",
       "\n",
       "  which_of_the_following_countries_do_you_feel_the_most_ready_to_receive_a_covid_19_vaccine_from  \\\n",
       "0                                      did not exist                                               \n",
       "1                                      did not exist                                               \n",
       "2                                      did not exist                                               \n",
       "3                                      did not exist                                               \n",
       "4                                      did not exist                                               \n",
       "\n",
       "  how_much_do_you_agree_with_the_following_statement_u201cvaccines_are_necessary_to_promote_herd_immunity_and_ensure_the_health_and_safety_of_everyone_in_the_community_including_immunocompromised_individuals_u201d  \\\n",
       "0                                      did not exist                                                                                                                                                                    \n",
       "1                                      did not exist                                                                                                                                                                    \n",
       "2                                      did not exist                                                                                                                                                                    \n",
       "3                                      did not exist                                                                                                                                                                    \n",
       "4                                      did not exist                                                                                                                                                                    \n",
       "\n",
       "  when_a_covid_19_vaccine_becomes_widely_publicly_available_how_likely_are_you_to_get_it  \\\n",
       "0                                      did not exist                                       \n",
       "1                                      did not exist                                       \n",
       "2                                      did not exist                                       \n",
       "3                                      did not exist                                       \n",
       "4                                      did not exist                                       \n",
       "\n",
       "  how_quickly_will_you_get_the_covid_19_vaccine  \n",
       "0                                 did not exist  \n",
       "1                                 did not exist  \n",
       "2                                 did not exist  \n",
       "3                                 did not exist  \n",
       "4                                 did not exist  \n",
       "\n",
       "[5 rows x 89 columns]"
      ]
     },
     "execution_count": 3,
     "metadata": {},
     "output_type": "execute_result"
    }
   ],
   "source": [
    "data.head()"
   ]
  },
  {
   "cell_type": "code",
   "execution_count": 4,
   "metadata": {},
   "outputs": [
    {
     "name": "stdout",
     "output_type": "stream",
     "text": [
      "<class 'pandas.core.frame.DataFrame'>\n",
      "RangeIndex: 2866985 entries, 0 to 2866984\n",
      "Data columns (total 89 columns):\n",
      " #   Column                                                                                                                                                                                                               Dtype  \n",
      "---  ------                                                                                                                                                                                                               -----  \n",
      " 0   submission_id                                                                                                                                                                                                        int64  \n",
      " 1   observation_id                                                                                                                                                                                                       int64  \n",
      " 2   observed_time                                                                                                                                                                                                        object \n",
      " 3   user_id                                                                                                                                                                                                              int64  \n",
      " 4   form_id                                                                                                                                                                                                              int64  \n",
      " 5   form_version                                                                                                                                                                                                         int64  \n",
      " 6   form_name                                                                                                                                                                                                            object \n",
      " 7   form_tier                                                                                                                                                                                                            int64  \n",
      " 8   campaign_id                                                                                                                                                                                                          int64  \n",
      " 9   campaign_name                                                                                                                                                                                                        object \n",
      " 10  project_id                                                                                                                                                                                                           int64  \n",
      " 11  project_name                                                                                                                                                                                                         object \n",
      " 12  organization_id                                                                                                                                                                                                      object \n",
      " 13  gender                                                                                                                                                                                                               object \n",
      " 14  age                                                                                                                                                                                                                  object \n",
      " 15  geography                                                                                                                                                                                                            object \n",
      " 16  financial_situation                                                                                                                                                                                                  object \n",
      " 17  education                                                                                                                                                                                                            object \n",
      " 18  employment_status                                                                                                                                                                                                    object \n",
      " 19  ethnicity                                                                                                                                                                                                            object \n",
      " 20  religion                                                                                                                                                                                                             object \n",
      " 21  batch_date                                                                                                                                                                                                           object \n",
      " 22  location_feature_id                                                                                                                                                                                                  float64\n",
      " 23  location_feature_name                                                                                                                                                                                                float64\n",
      " 24  observation_lat                                                                                                                                                                                                      float64\n",
      " 25  observation_lon                                                                                                                                                                                                      float64\n",
      " 26  HASC_code                                                                                                                                                                                                            object \n",
      " 27  L0_name                                                                                                                                                                                                              object \n",
      " 28  L1_name                                                                                                                                                                                                              object \n",
      " 29  L2_name                                                                                                                                                                                                              object \n",
      " 30  intro_input                                                                                                                                                                                                          object \n",
      " 31  the_following_questions_will_ask_you_about_the_spread_of_covid_19_in_your_area                                                                                                                                       object \n",
      " 32  how_concerned_are_you_about_the_spread_of_covid_19_in_your_community                                                                                                                                                 object \n",
      " 33  have_you_personally_contracted_covid_19                                                                                                                                                                              object \n",
      " 34  did_you_seek_medical_care_to_treat_covid_19                                                                                                                                                                          object \n",
      " 35  how_satisfied_were_you_with_the_level_of_care_you_received                                                                                                                                                           object \n",
      " 36  how_confident_are_you_that_you_are_immune_should_a_\"second_wave\"_emerge_in_the_future                                                                                                                                object \n",
      " 37  why_were_you_not_tested                                                                                                                                                                                              object \n",
      " 38  how_concerned_are_you_that_you_personally_will_contract_covid_19                                                                                                                                                     object \n",
      " 39  how_concerned_are_you_about_your_access_to_adequate_health_care_services_should_you_contract_covid_19                                                                                                                object \n",
      " 40  do_you_know_if_testing_for_coronavirus_is_available_in_your_city                                                                                                                                                     object \n",
      " 41  what_kind_of_locations_or_facilities_are_offering_testing_in_your_city                                                                                                                                               object \n",
      " 42  the_following_questions_will_ask_you_about_the_government_response_to_and_economic_impact_of_the_covid_19_pandemic_in_your_area                                                                                      object \n",
      " 43  which_of_the_following_statements_best_describes_your_attitude_towards_your_local_town_or_municipality_governmentu2019s_response_to_covid_19_my_local_government_hasu2026                                            object \n",
      " 44  do_you_trust_your_local_or_national_government_to_make_more_effective_decisions_regarding_covid_19                                                                                                                   object \n",
      " 45  are_non_essential_businesses_in_your_area_closed                                                                                                                                                                     object \n",
      " 46  are_non_essential_businesses_closed_by_declaration_of_authorities_or_voluntarily                                                                                                                                     object \n",
      " 47  when_do_you_believe_non_essential_businesses_should_open_in_your_area                                                                                                                                                object \n",
      " 48  what_do_you_think_of_the_timing_of_the_decision_to_re_open_non_essential_businesses_in_your_area                                                                                                                     object \n",
      " 49  which_of_the_following_activities_will_you_feel_comfortable_with_now_or_immediately_after_non_essential_businesses_re_open                                                                                           object \n",
      " 50  when_do_you_anticipate_feeling_comfortable_shopping_at_non_essential_stores                                                                                                                                          object \n",
      " 51  when_do_you_anticipate_feeling_comfortable_shopping_at_nonessential_stores_copy                                                                                                                                      object \n",
      " 52  when_do_you_anticipate_feeling_comfortable_riding_public_transportation                                                                                                                                              object \n",
      " 53  when_do_you_anticipate_feeling_comfortable_traveling_by_airplane                                                                                                                                                     object \n",
      " 54  how_difficult_has_it_been_for_you_to_find_groceries_and_other_items                                                                                                                                                  object \n",
      " 55  which_of_the_following_categories_of_items_were_difficult_or_impossible_to_find                                                                                                                                      object \n",
      " 56  from_which_of_the_following_places_have_you_purchased_or_looked_for_food_and_other_supplies                                                                                                                          object \n",
      " 57  have_you_or_a_family_member_been_affected_by_price_gouging_for_goods_and_services_related_to_the_coronavirus_covid_19                                                                                                object \n",
      " 58  how_concerned_are_you_about_the_long_term_negative_impacts_the_coronavirus_could_have_on_your_national_economy                                                                                                       object \n",
      " 59  how_long_do_you_believe_it_will_take_for_your_local_economy_to_rebound_to_its_pre_covid_19_status                                                                                                                    object \n",
      " 60  the_following_questions_will_ask_you_about_the_impact_of_the_covid_19_pandemic_on_your_day_to_day_life_and_personal_finances                                                                                         object \n",
      " 61  has_your_income_been_at_all_affected_by_the_covid_19_pandemic                                                                                                                                                        object \n",
      " 62  in_the_past_week_how_much_did_you_reduce_the_number_of_hours_worked_compared_to_a_typical_week                                                                                                                       object \n",
      " 63  how_long_do_you_believe_it_will_take_for_your_income_to_reach_its_pre_covid_19_levels                                                                                                                                object \n",
      " 64  how_concerned_are_you_that_your_economic_situation_will_be_negatively_impacted_in_the_next_30_days_as_a_result_of_a_change_in_economic_activity                                                                      object \n",
      " 65  have_you_left_or_are_you_planning_to_leave_your_home_today                                                                                                                                                           object \n",
      " 66  why_did_you_or_are_you_planning_to_leave_your_home_today                                                                                                                                                             object \n",
      " 67  when_you_leave_your_home_do_you_typically_wear_a_face_mask                                                                                                                                                           object \n",
      " 68  why_do_you_not_wear_a_mask_when_you_leave_your_home                                                                                                                                                                  object \n",
      " 69  one_last_question_what_do_you_think_has_negatively_impacted_your_daily_life_most_because_of_covid_19                                                                                                                 object \n",
      " 70  do_you_have_school_aged_children_living_in_your_household                                                                                                                                                            object \n",
      " 71  has_their_school_closed_due_to_covid_19                                                                                                                                                                              object \n",
      " 72  what_do_you_think_of_the_decision_to_re_open_schools_in_your_area                                                                                                                                                    object \n",
      " 73  have_you_canceled_or_altered_travel_plans_because_of_the_coronavirus_covid_19                                                                                                                                        object \n",
      " 74  have_you_been_practicing_social_distancing_when_you_leave_the_house                                                                                                                                                  object \n",
      " 75  which_of_the_following_factors_have_inclined_you_to_not_closely_follow_the_guidance_of_social_distancing                                                                                                             object \n",
      " 76  which_of_the_following_behaviors_are_you_or_do_you_expect_to_demonstrate_in_public_once_non_essential_businesses_re_open                                                                                             object \n",
      " 77  how_much_of_an_impact_do_you_believe_the_covid_19_pandemic_and_subsequent_quarantine_measures_have_had_on_your_mental_and_emotional_health                                                                           object \n",
      " 78  finally_this_last_group_of_questions_will_ask_you_about_how_you_receive_information_about_covid_19                                                                                                                   object \n",
      " 79  how_have_you_been_getting_updates_on_covid_19_from_the_list_below_select_all_the_types_of_media_youu2019ve_been_relying_on_for_updates_as_coronavirus_cases_increase                                                 object \n",
      " 80  how_much_do_you_agree_with_the_following_statement_u201ci_am_well_informed_about_covid_19_and_understand_where_to_get_additional_informationu201d                                                                    object \n",
      " 81  how_satisfied_are_you_with_the_media_coverage_of_covid_19                                                                                                                                                            object \n",
      " 82  in_the_past_6_months_have_you_heard_read_or_seen_any_information_or_messaging_that_highlights_the_downsides_of_a_covid_19_vaccine                                                                                    object \n",
      " 83  which_media_outlets_do_you_think_only_report_on_the_potential_disadvantages_of_a_covid_19_vaccine                                                                                                                    object \n",
      " 84  how_safe_do_you_believe_the_covid_19_vaccines_being_developed_now_are                                                                                                                                                object \n",
      " 85  which_of_the_following_countries_do_you_feel_the_most_ready_to_receive_a_covid_19_vaccine_from                                                                                                                       object \n",
      " 86  how_much_do_you_agree_with_the_following_statement_u201cvaccines_are_necessary_to_promote_herd_immunity_and_ensure_the_health_and_safety_of_everyone_in_the_community_including_immunocompromised_individuals_u201d  object \n",
      " 87  when_a_covid_19_vaccine_becomes_widely_publicly_available_how_likely_are_you_to_get_it                                                                                                                               object \n",
      " 88  how_quickly_will_you_get_the_covid_19_vaccine                                                                                                                                                                        object \n",
      "dtypes: float64(4), int64(8), object(77)\n",
      "memory usage: 1.9+ GB\n"
     ]
    }
   ],
   "source": [
    "data.info()"
   ]
  },
  {
   "cell_type": "code",
   "execution_count": 5,
   "metadata": {},
   "outputs": [
    {
     "data": {
      "text/plain": [
       "2866985"
      ]
     },
     "execution_count": 5,
     "metadata": {},
     "output_type": "execute_result"
    }
   ],
   "source": [
    "len(data)"
   ]
  },
  {
   "cell_type": "code",
   "execution_count": 6,
   "metadata": {
    "scrolled": false
   },
   "outputs": [
    {
     "data": {
      "text/html": [
       "<div>\n",
       "<style scoped>\n",
       "    .dataframe tbody tr th:only-of-type {\n",
       "        vertical-align: middle;\n",
       "    }\n",
       "\n",
       "    .dataframe tbody tr th {\n",
       "        vertical-align: top;\n",
       "    }\n",
       "\n",
       "    .dataframe thead th {\n",
       "        text-align: right;\n",
       "    }\n",
       "</style>\n",
       "<table border=\"1\" class=\"dataframe\">\n",
       "  <thead>\n",
       "    <tr style=\"text-align: right;\">\n",
       "      <th></th>\n",
       "      <th>how_much_of_an_impact_do_you_believe_the_covid_19_pandemic_and_subsequent_quarantine_measures_have_had_on_your_mental_and_emotional_health</th>\n",
       "      <th>how_much_do_you_agree_with_the_following_statement_u201cvaccines_are_necessary_to_promote_herd_immunity_and_ensure_the_health_and_safety_of_everyone_in_the_community_including_immunocompromised_individuals_u201d</th>\n",
       "      <th>how_much_do_you_agree_with_the_following_statement_u201ci_am_well_informed_about_covid_19_and_understand_where_to_get_additional_informationu201d</th>\n",
       "    </tr>\n",
       "  </thead>\n",
       "  <tbody>\n",
       "    <tr>\n",
       "      <th>0</th>\n",
       "      <td>Neither positive nor negative impact</td>\n",
       "      <td>did not exist</td>\n",
       "      <td>Neither agree nor disagree</td>\n",
       "    </tr>\n",
       "    <tr>\n",
       "      <th>1</th>\n",
       "      <td>Extreme negative impact</td>\n",
       "      <td>did not exist</td>\n",
       "      <td>Agree</td>\n",
       "    </tr>\n",
       "    <tr>\n",
       "      <th>2</th>\n",
       "      <td>Some negative impact</td>\n",
       "      <td>did not exist</td>\n",
       "      <td>Agree</td>\n",
       "    </tr>\n",
       "    <tr>\n",
       "      <th>3</th>\n",
       "      <td>Some negative impact</td>\n",
       "      <td>did not exist</td>\n",
       "      <td>Agree</td>\n",
       "    </tr>\n",
       "    <tr>\n",
       "      <th>4</th>\n",
       "      <td>Some negative impact</td>\n",
       "      <td>did not exist</td>\n",
       "      <td>Agree</td>\n",
       "    </tr>\n",
       "    <tr>\n",
       "      <th>...</th>\n",
       "      <td>...</td>\n",
       "      <td>...</td>\n",
       "      <td>...</td>\n",
       "    </tr>\n",
       "    <tr>\n",
       "      <th>2866980</th>\n",
       "      <td>Neither positive nor negative impact</td>\n",
       "      <td>did not exist</td>\n",
       "      <td>Neither agree nor disagree</td>\n",
       "    </tr>\n",
       "    <tr>\n",
       "      <th>2866981</th>\n",
       "      <td>Some negative impact</td>\n",
       "      <td>did not exist</td>\n",
       "      <td>Agree</td>\n",
       "    </tr>\n",
       "    <tr>\n",
       "      <th>2866982</th>\n",
       "      <td>Some positive impact</td>\n",
       "      <td>did not exist</td>\n",
       "      <td>Agree</td>\n",
       "    </tr>\n",
       "    <tr>\n",
       "      <th>2866983</th>\n",
       "      <td>Neither positive nor negative impact</td>\n",
       "      <td>did not exist</td>\n",
       "      <td>Neither agree nor disagree</td>\n",
       "    </tr>\n",
       "    <tr>\n",
       "      <th>2866984</th>\n",
       "      <td>Some negative impact</td>\n",
       "      <td>did not exist</td>\n",
       "      <td>Agree</td>\n",
       "    </tr>\n",
       "  </tbody>\n",
       "</table>\n",
       "<p>2866985 rows × 3 columns</p>\n",
       "</div>"
      ],
      "text/plain": [
       "        how_much_of_an_impact_do_you_believe_the_covid_19_pandemic_and_subsequent_quarantine_measures_have_had_on_your_mental_and_emotional_health  \\\n",
       "0                     Neither positive nor negative impact                                                                                           \n",
       "1                                  Extreme negative impact                                                                                           \n",
       "2                                     Some negative impact                                                                                           \n",
       "3                                     Some negative impact                                                                                           \n",
       "4                                     Some negative impact                                                                                           \n",
       "...                                                    ...                                                                                           \n",
       "2866980               Neither positive nor negative impact                                                                                           \n",
       "2866981                               Some negative impact                                                                                           \n",
       "2866982                               Some positive impact                                                                                           \n",
       "2866983               Neither positive nor negative impact                                                                                           \n",
       "2866984                               Some negative impact                                                                                           \n",
       "\n",
       "        how_much_do_you_agree_with_the_following_statement_u201cvaccines_are_necessary_to_promote_herd_immunity_and_ensure_the_health_and_safety_of_everyone_in_the_community_including_immunocompromised_individuals_u201d  \\\n",
       "0                                            did not exist                                                                                                                                                                    \n",
       "1                                            did not exist                                                                                                                                                                    \n",
       "2                                            did not exist                                                                                                                                                                    \n",
       "3                                            did not exist                                                                                                                                                                    \n",
       "4                                            did not exist                                                                                                                                                                    \n",
       "...                                                    ...                                                                                                                                                                    \n",
       "2866980                                      did not exist                                                                                                                                                                    \n",
       "2866981                                      did not exist                                                                                                                                                                    \n",
       "2866982                                      did not exist                                                                                                                                                                    \n",
       "2866983                                      did not exist                                                                                                                                                                    \n",
       "2866984                                      did not exist                                                                                                                                                                    \n",
       "\n",
       "        how_much_do_you_agree_with_the_following_statement_u201ci_am_well_informed_about_covid_19_and_understand_where_to_get_additional_informationu201d  \n",
       "0                               Neither agree nor disagree                                                                                                 \n",
       "1                                                    Agree                                                                                                 \n",
       "2                                                    Agree                                                                                                 \n",
       "3                                                    Agree                                                                                                 \n",
       "4                                                    Agree                                                                                                 \n",
       "...                                                    ...                                                                                                 \n",
       "2866980                         Neither agree nor disagree                                                                                                 \n",
       "2866981                                              Agree                                                                                                 \n",
       "2866982                                              Agree                                                                                                 \n",
       "2866983                         Neither agree nor disagree                                                                                                 \n",
       "2866984                                              Agree                                                                                                 \n",
       "\n",
       "[2866985 rows x 3 columns]"
      ]
     },
     "execution_count": 6,
     "metadata": {},
     "output_type": "execute_result"
    }
   ],
   "source": [
    "#find the three questions\n",
    "df = data[['how_much_of_an_impact_do_you_believe_the_covid_19_pandemic_and_subsequent_quarantine_measures_have_had_on_your_mental_and_emotional_health',\n",
    "          'how_much_do_you_agree_with_the_following_statement_u201cvaccines_are_necessary_to_promote_herd_immunity_and_ensure_the_health_and_safety_of_everyone_in_the_community_including_immunocompromised_individuals_u201d',\n",
    "          'how_much_do_you_agree_with_the_following_statement_u201ci_am_well_informed_about_covid_19_and_understand_where_to_get_additional_informationu201d']]\n",
    "df"
   ]
  },
  {
   "cell_type": "code",
   "execution_count": 7,
   "metadata": {},
   "outputs": [
    {
     "name": "stderr",
     "output_type": "stream",
     "text": [
      "<ipython-input-7-e69dbf0ab397>:2: SettingWithCopyWarning: \n",
      "A value is trying to be set on a copy of a slice from a DataFrame\n",
      "\n",
      "See the caveats in the documentation: https://pandas.pydata.org/pandas-docs/stable/user_guide/indexing.html#returning-a-view-versus-a-copy\n",
      "  df.dropna(inplace=True)\n"
     ]
    }
   ],
   "source": [
    "#get rid of the NAs\n",
    "df.dropna(inplace=True)"
   ]
  },
  {
   "cell_type": "code",
   "execution_count": 8,
   "metadata": {},
   "outputs": [],
   "source": [
    "def likert_scale(col):\n",
    "            \n",
    "        if col == 'did not exist':\n",
    "            return 1 \n",
    "        elif col == 'Strongly disagree':\n",
    "            return 2\n",
    "        elif col == 'Disagree':\n",
    "            return 3\n",
    "        elif col == 'Neither agree nor disagree':\n",
    "            return 4\n",
    "        elif col == 'Agree':\n",
    "            return 5\n",
    "        elif col == 'Strongly agree':\n",
    "            return 6 \n",
    "\n",
    "\n",
    "def likert_scale2(col):\n",
    "    \n",
    "        if col == 'did not exist':\n",
    "            return 1 \n",
    "        elif col == 'Extreme negative impact':\n",
    "            return 2 \n",
    "        elif col == 'Some negative impact':\n",
    "            return 3\n",
    "        elif col == 'Neither positive nor negative impact':\n",
    "            return 4\n",
    "        elif col == 'Some positive impact':\n",
    "            return 5\n",
    "        elif col == 'Extreme positive impact':\n",
    "            return 6\n",
    "      "
   ]
  },
  {
   "cell_type": "code",
   "execution_count": 9,
   "metadata": {},
   "outputs": [
    {
     "name": "stderr",
     "output_type": "stream",
     "text": [
      "<ipython-input-9-89602be9b0e4>:1: SettingWithCopyWarning: \n",
      "A value is trying to be set on a copy of a slice from a DataFrame.\n",
      "Try using .loc[row_indexer,col_indexer] = value instead\n",
      "\n",
      "See the caveats in the documentation: https://pandas.pydata.org/pandas-docs/stable/user_guide/indexing.html#returning-a-view-versus-a-copy\n",
      "  df['how_much_do_you_agree_with_the_following_statement_u201cvaccines_are_necessary_to_promote_herd_immunity_and_ensure_the_health_and_safety_of_everyone_in_the_community_including_immunocompromised_individuals_u201d'] = df['how_much_do_you_agree_with_the_following_statement_u201cvaccines_are_necessary_to_promote_herd_immunity_and_ensure_the_health_and_safety_of_everyone_in_the_community_including_immunocompromised_individuals_u201d'].apply(lambda x: likert_scale(x))\n"
     ]
    }
   ],
   "source": [
    "df['how_much_do_you_agree_with_the_following_statement_u201cvaccines_are_necessary_to_promote_herd_immunity_and_ensure_the_health_and_safety_of_everyone_in_the_community_including_immunocompromised_individuals_u201d'] = df['how_much_do_you_agree_with_the_following_statement_u201cvaccines_are_necessary_to_promote_herd_immunity_and_ensure_the_health_and_safety_of_everyone_in_the_community_including_immunocompromised_individuals_u201d'].apply(lambda x: likert_scale(x))"
   ]
  },
  {
   "cell_type": "code",
   "execution_count": 10,
   "metadata": {
    "scrolled": true
   },
   "outputs": [
    {
     "name": "stderr",
     "output_type": "stream",
     "text": [
      "<ipython-input-10-6fd01f088292>:1: SettingWithCopyWarning: \n",
      "A value is trying to be set on a copy of a slice from a DataFrame.\n",
      "Try using .loc[row_indexer,col_indexer] = value instead\n",
      "\n",
      "See the caveats in the documentation: https://pandas.pydata.org/pandas-docs/stable/user_guide/indexing.html#returning-a-view-versus-a-copy\n",
      "  df['how_much_do_you_agree_with_the_following_statement_u201ci_am_well_informed_about_covid_19_and_understand_where_to_get_additional_informationu201d'] = df['how_much_do_you_agree_with_the_following_statement_u201ci_am_well_informed_about_covid_19_and_understand_where_to_get_additional_informationu201d'].apply(lambda x: likert_scale(x))\n"
     ]
    }
   ],
   "source": [
    "df['how_much_do_you_agree_with_the_following_statement_u201ci_am_well_informed_about_covid_19_and_understand_where_to_get_additional_informationu201d'] = df['how_much_do_you_agree_with_the_following_statement_u201ci_am_well_informed_about_covid_19_and_understand_where_to_get_additional_informationu201d'].apply(lambda x: likert_scale(x))"
   ]
  },
  {
   "cell_type": "code",
   "execution_count": 11,
   "metadata": {},
   "outputs": [
    {
     "name": "stderr",
     "output_type": "stream",
     "text": [
      "<ipython-input-11-84520b4a3b6f>:1: SettingWithCopyWarning: \n",
      "A value is trying to be set on a copy of a slice from a DataFrame.\n",
      "Try using .loc[row_indexer,col_indexer] = value instead\n",
      "\n",
      "See the caveats in the documentation: https://pandas.pydata.org/pandas-docs/stable/user_guide/indexing.html#returning-a-view-versus-a-copy\n",
      "  df['how_much_of_an_impact_do_you_believe_the_covid_19_pandemic_and_subsequent_quarantine_measures_have_had_on_your_mental_and_emotional_health'] = df['how_much_of_an_impact_do_you_believe_the_covid_19_pandemic_and_subsequent_quarantine_measures_have_had_on_your_mental_and_emotional_health'].apply(lambda x: likert_scale2(x))\n"
     ]
    }
   ],
   "source": [
    "df['how_much_of_an_impact_do_you_believe_the_covid_19_pandemic_and_subsequent_quarantine_measures_have_had_on_your_mental_and_emotional_health'] = df['how_much_of_an_impact_do_you_believe_the_covid_19_pandemic_and_subsequent_quarantine_measures_have_had_on_your_mental_and_emotional_health'].apply(lambda x: likert_scale2(x))"
   ]
  },
  {
   "cell_type": "code",
   "execution_count": 12,
   "metadata": {
    "scrolled": true
   },
   "outputs": [
    {
     "data": {
      "text/html": [
       "<div>\n",
       "<style scoped>\n",
       "    .dataframe tbody tr th:only-of-type {\n",
       "        vertical-align: middle;\n",
       "    }\n",
       "\n",
       "    .dataframe tbody tr th {\n",
       "        vertical-align: top;\n",
       "    }\n",
       "\n",
       "    .dataframe thead th {\n",
       "        text-align: right;\n",
       "    }\n",
       "</style>\n",
       "<table border=\"1\" class=\"dataframe\">\n",
       "  <thead>\n",
       "    <tr style=\"text-align: right;\">\n",
       "      <th></th>\n",
       "      <th>how_much_of_an_impact_do_you_believe_the_covid_19_pandemic_and_subsequent_quarantine_measures_have_had_on_your_mental_and_emotional_health</th>\n",
       "      <th>how_much_do_you_agree_with_the_following_statement_u201cvaccines_are_necessary_to_promote_herd_immunity_and_ensure_the_health_and_safety_of_everyone_in_the_community_including_immunocompromised_individuals_u201d</th>\n",
       "      <th>how_much_do_you_agree_with_the_following_statement_u201ci_am_well_informed_about_covid_19_and_understand_where_to_get_additional_informationu201d</th>\n",
       "    </tr>\n",
       "  </thead>\n",
       "  <tbody>\n",
       "    <tr>\n",
       "      <th>0</th>\n",
       "      <td>4</td>\n",
       "      <td>1</td>\n",
       "      <td>4</td>\n",
       "    </tr>\n",
       "    <tr>\n",
       "      <th>1</th>\n",
       "      <td>2</td>\n",
       "      <td>1</td>\n",
       "      <td>5</td>\n",
       "    </tr>\n",
       "    <tr>\n",
       "      <th>2</th>\n",
       "      <td>3</td>\n",
       "      <td>1</td>\n",
       "      <td>5</td>\n",
       "    </tr>\n",
       "    <tr>\n",
       "      <th>3</th>\n",
       "      <td>3</td>\n",
       "      <td>1</td>\n",
       "      <td>5</td>\n",
       "    </tr>\n",
       "    <tr>\n",
       "      <th>4</th>\n",
       "      <td>3</td>\n",
       "      <td>1</td>\n",
       "      <td>5</td>\n",
       "    </tr>\n",
       "    <tr>\n",
       "      <th>...</th>\n",
       "      <td>...</td>\n",
       "      <td>...</td>\n",
       "      <td>...</td>\n",
       "    </tr>\n",
       "    <tr>\n",
       "      <th>2866980</th>\n",
       "      <td>4</td>\n",
       "      <td>1</td>\n",
       "      <td>4</td>\n",
       "    </tr>\n",
       "    <tr>\n",
       "      <th>2866981</th>\n",
       "      <td>3</td>\n",
       "      <td>1</td>\n",
       "      <td>5</td>\n",
       "    </tr>\n",
       "    <tr>\n",
       "      <th>2866982</th>\n",
       "      <td>5</td>\n",
       "      <td>1</td>\n",
       "      <td>5</td>\n",
       "    </tr>\n",
       "    <tr>\n",
       "      <th>2866983</th>\n",
       "      <td>4</td>\n",
       "      <td>1</td>\n",
       "      <td>4</td>\n",
       "    </tr>\n",
       "    <tr>\n",
       "      <th>2866984</th>\n",
       "      <td>3</td>\n",
       "      <td>1</td>\n",
       "      <td>5</td>\n",
       "    </tr>\n",
       "  </tbody>\n",
       "</table>\n",
       "<p>2866951 rows × 3 columns</p>\n",
       "</div>"
      ],
      "text/plain": [
       "         how_much_of_an_impact_do_you_believe_the_covid_19_pandemic_and_subsequent_quarantine_measures_have_had_on_your_mental_and_emotional_health  \\\n",
       "0                                                        4                                                                                            \n",
       "1                                                        2                                                                                            \n",
       "2                                                        3                                                                                            \n",
       "3                                                        3                                                                                            \n",
       "4                                                        3                                                                                            \n",
       "...                                                    ...                                                                                            \n",
       "2866980                                                  4                                                                                            \n",
       "2866981                                                  3                                                                                            \n",
       "2866982                                                  5                                                                                            \n",
       "2866983                                                  4                                                                                            \n",
       "2866984                                                  3                                                                                            \n",
       "\n",
       "         how_much_do_you_agree_with_the_following_statement_u201cvaccines_are_necessary_to_promote_herd_immunity_and_ensure_the_health_and_safety_of_everyone_in_the_community_including_immunocompromised_individuals_u201d  \\\n",
       "0                                                        1                                                                                                                                                                     \n",
       "1                                                        1                                                                                                                                                                     \n",
       "2                                                        1                                                                                                                                                                     \n",
       "3                                                        1                                                                                                                                                                     \n",
       "4                                                        1                                                                                                                                                                     \n",
       "...                                                    ...                                                                                                                                                                     \n",
       "2866980                                                  1                                                                                                                                                                     \n",
       "2866981                                                  1                                                                                                                                                                     \n",
       "2866982                                                  1                                                                                                                                                                     \n",
       "2866983                                                  1                                                                                                                                                                     \n",
       "2866984                                                  1                                                                                                                                                                     \n",
       "\n",
       "         how_much_do_you_agree_with_the_following_statement_u201ci_am_well_informed_about_covid_19_and_understand_where_to_get_additional_informationu201d  \n",
       "0                                                        4                                                                                                  \n",
       "1                                                        5                                                                                                  \n",
       "2                                                        5                                                                                                  \n",
       "3                                                        5                                                                                                  \n",
       "4                                                        5                                                                                                  \n",
       "...                                                    ...                                                                                                  \n",
       "2866980                                                  4                                                                                                  \n",
       "2866981                                                  5                                                                                                  \n",
       "2866982                                                  5                                                                                                  \n",
       "2866983                                                  4                                                                                                  \n",
       "2866984                                                  5                                                                                                  \n",
       "\n",
       "[2866951 rows x 3 columns]"
      ]
     },
     "execution_count": 12,
     "metadata": {},
     "output_type": "execute_result"
    }
   ],
   "source": [
    "df"
   ]
  },
  {
   "cell_type": "code",
   "execution_count": 38,
   "metadata": {
    "scrolled": false
   },
   "outputs": [
    {
     "data": {
      "text/plain": [
       "BartlettResult(statistic=0.045756812588736, pvalue=0.9773813199647742)"
      ]
     },
     "execution_count": 38,
     "metadata": {},
     "output_type": "execute_result"
    }
   ],
   "source": [
    "#whether if it's suitable to conduct factor analysis \n",
    "corr=list(df.corr().to_numpy())\n",
    "bartlett(*corr)"
   ]
  },
  {
   "cell_type": "code",
   "execution_count": 36,
   "metadata": {},
   "outputs": [
    {
     "data": {
      "text/plain": [
       "0.5018613437102944"
      ]
     },
     "execution_count": 36,
     "metadata": {},
     "output_type": "execute_result"
    }
   ],
   "source": [
    "kmo = calculate_kmo(df.values)\n",
    "kmo[1]"
   ]
  },
  {
   "cell_type": "code",
   "execution_count": 16,
   "metadata": {},
   "outputs": [
    {
     "data": {
      "text/html": [
       "<div>\n",
       "<style scoped>\n",
       "    .dataframe tbody tr th:only-of-type {\n",
       "        vertical-align: middle;\n",
       "    }\n",
       "\n",
       "    .dataframe tbody tr th {\n",
       "        vertical-align: top;\n",
       "    }\n",
       "\n",
       "    .dataframe thead th {\n",
       "        text-align: right;\n",
       "    }\n",
       "</style>\n",
       "<table border=\"1\" class=\"dataframe\">\n",
       "  <thead>\n",
       "    <tr style=\"text-align: right;\">\n",
       "      <th></th>\n",
       "      <th>how_much_of_an_impact_do_you_believe_the_covid_19_pandemic_and_subsequent_quarantine_measures_have_had_on_your_mental_and_emotional_health</th>\n",
       "      <th>how_much_do_you_agree_with_the_following_statement_u201cvaccines_are_necessary_to_promote_herd_immunity_and_ensure_the_health_and_safety_of_everyone_in_the_community_including_immunocompromised_individuals_u201d</th>\n",
       "      <th>how_much_do_you_agree_with_the_following_statement_u201ci_am_well_informed_about_covid_19_and_understand_where_to_get_additional_informationu201d</th>\n",
       "    </tr>\n",
       "  </thead>\n",
       "  <tbody>\n",
       "    <tr>\n",
       "      <th>0</th>\n",
       "      <td>4</td>\n",
       "      <td>1</td>\n",
       "      <td>4</td>\n",
       "    </tr>\n",
       "    <tr>\n",
       "      <th>1</th>\n",
       "      <td>2</td>\n",
       "      <td>1</td>\n",
       "      <td>5</td>\n",
       "    </tr>\n",
       "    <tr>\n",
       "      <th>2</th>\n",
       "      <td>3</td>\n",
       "      <td>1</td>\n",
       "      <td>5</td>\n",
       "    </tr>\n",
       "    <tr>\n",
       "      <th>3</th>\n",
       "      <td>3</td>\n",
       "      <td>1</td>\n",
       "      <td>5</td>\n",
       "    </tr>\n",
       "    <tr>\n",
       "      <th>4</th>\n",
       "      <td>3</td>\n",
       "      <td>1</td>\n",
       "      <td>5</td>\n",
       "    </tr>\n",
       "    <tr>\n",
       "      <th>...</th>\n",
       "      <td>...</td>\n",
       "      <td>...</td>\n",
       "      <td>...</td>\n",
       "    </tr>\n",
       "    <tr>\n",
       "      <th>2866980</th>\n",
       "      <td>4</td>\n",
       "      <td>1</td>\n",
       "      <td>4</td>\n",
       "    </tr>\n",
       "    <tr>\n",
       "      <th>2866981</th>\n",
       "      <td>3</td>\n",
       "      <td>1</td>\n",
       "      <td>5</td>\n",
       "    </tr>\n",
       "    <tr>\n",
       "      <th>2866982</th>\n",
       "      <td>5</td>\n",
       "      <td>1</td>\n",
       "      <td>5</td>\n",
       "    </tr>\n",
       "    <tr>\n",
       "      <th>2866983</th>\n",
       "      <td>4</td>\n",
       "      <td>1</td>\n",
       "      <td>4</td>\n",
       "    </tr>\n",
       "    <tr>\n",
       "      <th>2866984</th>\n",
       "      <td>3</td>\n",
       "      <td>1</td>\n",
       "      <td>5</td>\n",
       "    </tr>\n",
       "  </tbody>\n",
       "</table>\n",
       "<p>2866951 rows × 3 columns</p>\n",
       "</div>"
      ],
      "text/plain": [
       "         how_much_of_an_impact_do_you_believe_the_covid_19_pandemic_and_subsequent_quarantine_measures_have_had_on_your_mental_and_emotional_health  \\\n",
       "0                                                        4                                                                                            \n",
       "1                                                        2                                                                                            \n",
       "2                                                        3                                                                                            \n",
       "3                                                        3                                                                                            \n",
       "4                                                        3                                                                                            \n",
       "...                                                    ...                                                                                            \n",
       "2866980                                                  4                                                                                            \n",
       "2866981                                                  3                                                                                            \n",
       "2866982                                                  5                                                                                            \n",
       "2866983                                                  4                                                                                            \n",
       "2866984                                                  3                                                                                            \n",
       "\n",
       "         how_much_do_you_agree_with_the_following_statement_u201cvaccines_are_necessary_to_promote_herd_immunity_and_ensure_the_health_and_safety_of_everyone_in_the_community_including_immunocompromised_individuals_u201d  \\\n",
       "0                                                        1                                                                                                                                                                     \n",
       "1                                                        1                                                                                                                                                                     \n",
       "2                                                        1                                                                                                                                                                     \n",
       "3                                                        1                                                                                                                                                                     \n",
       "4                                                        1                                                                                                                                                                     \n",
       "...                                                    ...                                                                                                                                                                     \n",
       "2866980                                                  1                                                                                                                                                                     \n",
       "2866981                                                  1                                                                                                                                                                     \n",
       "2866982                                                  1                                                                                                                                                                     \n",
       "2866983                                                  1                                                                                                                                                                     \n",
       "2866984                                                  1                                                                                                                                                                     \n",
       "\n",
       "         how_much_do_you_agree_with_the_following_statement_u201ci_am_well_informed_about_covid_19_and_understand_where_to_get_additional_informationu201d  \n",
       "0                                                        4                                                                                                  \n",
       "1                                                        5                                                                                                  \n",
       "2                                                        5                                                                                                  \n",
       "3                                                        5                                                                                                  \n",
       "4                                                        5                                                                                                  \n",
       "...                                                    ...                                                                                                  \n",
       "2866980                                                  4                                                                                                  \n",
       "2866981                                                  5                                                                                                  \n",
       "2866982                                                  5                                                                                                  \n",
       "2866983                                                  4                                                                                                  \n",
       "2866984                                                  5                                                                                                  \n",
       "\n",
       "[2866951 rows x 3 columns]"
      ]
     },
     "execution_count": 16,
     "metadata": {},
     "output_type": "execute_result"
    }
   ],
   "source": [
    "df"
   ]
  },
  {
   "cell_type": "code",
   "execution_count": 29,
   "metadata": {},
   "outputs": [
    {
     "data": {
      "text/plain": [
       "array([[ 0.93136261, -0.21677464, -0.96602883],\n",
       "       [-0.82011184, -0.21677464,  0.16171502],\n",
       "       [ 0.05562538, -0.21677464,  0.16171502],\n",
       "       ...,\n",
       "       [ 1.80709984, -0.21677464,  0.16171502],\n",
       "       [ 0.93136261, -0.21677464, -0.96602883],\n",
       "       [ 0.05562538, -0.21677464,  0.16171502]])"
      ]
     },
     "execution_count": 29,
     "metadata": {},
     "output_type": "execute_result"
    }
   ],
   "source": [
    "std = StandardScaler()\n",
    "df_zs = std.fit_transform(df)\n",
    "df_zs"
   ]
  },
  {
   "cell_type": "code",
   "execution_count": 32,
   "metadata": {},
   "outputs": [],
   "source": [
    "df_zs_cov = np.cov(df_zs.T)"
   ]
  },
  {
   "cell_type": "code",
   "execution_count": 39,
   "metadata": {},
   "outputs": [
    {
     "name": "stdout",
     "output_type": "stream",
     "text": [
      "\n",
      "特征值\n",
      "：                                                names         e\n",
      "0  how_much_of_an_impact_do_you_believe_the_covid...  1.261706\n",
      "2  how_much_do_you_agree_with_the_following_state...  0.996246\n",
      "1  how_much_do_you_agree_with_the_following_state...  0.742049\n",
      "\n",
      "特征向量\n",
      "                                                     how_much_of_an_impact_do_you_believe_the_covid_19_pandemic_and_subsequent_quarantine_measures_have_had_on_your_mental_and_emotional_health  \\\n",
      "how_much_of_an_impact_do_you_believe_the_covid_...                                           0.703597                                                                                            \n",
      "how_much_do_you_agree_with_the_following_statem...                                           0.131621                                                                                            \n",
      "how_much_do_you_agree_with_the_following_statem...                                          -0.698303                                                                                            \n",
      "\n",
      "                                                    how_much_do_you_agree_with_the_following_statement_u201cvaccines_are_necessary_to_promote_herd_immunity_and_ensure_the_health_and_safety_of_everyone_in_the_community_including_immunocompromised_individuals_u201d  \\\n",
      "how_much_of_an_impact_do_you_believe_the_covid_...                                           0.708671                                                                                                                                                                     \n",
      "how_much_do_you_agree_with_the_following_statem...                                          -0.057634                                                                                                                                                                     \n",
      "how_much_do_you_agree_with_the_following_statem...                                           0.703181                                                                                                                                                                     \n",
      "\n",
      "                                                    how_much_do_you_agree_with_the_following_statement_u201ci_am_well_informed_about_covid_19_and_understand_where_to_get_additional_informationu201d  \n",
      "how_much_of_an_impact_do_you_believe_the_covid_...                                          -0.052308                                                                                                  \n",
      "how_much_do_you_agree_with_the_following_statem...                                           0.989623                                                                                                  \n",
      "how_much_do_you_agree_with_the_following_statem...                                           0.133827                                                                                                  \n"
     ]
    }
   ],
   "source": [
    "e , ev = nlg.eig(df_zs_cov)\n",
    "\n",
    "eig = pd.DataFrame()\n",
    "eig['names'] = df.columns\n",
    "eig['e'] = e\n",
    "eig.sort_values('e', ascending=False, inplace=True)\n",
    "print(\"\\n特征值\\n：\",eig)\n",
    "#查看特征向量，一行为一个特征向量\n",
    "eig1=pd.DataFrame(ev)\n",
    "eig1.columns = df.columns\n",
    "eig1.index = df.columns\n",
    "print(\"\\n特征向量\\n\",eig1)\n"
   ]
  },
  {
   "cell_type": "code",
   "execution_count": 42,
   "metadata": {},
   "outputs": [
    {
     "name": "stdout",
     "output_type": "stream",
     "text": [
      "[0.42056856261132164, 0.24734961694614088, 0.33208182044253753]\n",
      "[0.0, 0.42056856261132164, 0.7526503830538591]\n",
      "0.0\n",
      "3.0000010464082294\n",
      "0.0\n",
      "1.2617061279203698\n",
      "3.0000010464082294\n",
      "0.42056856261132164\n",
      "2.257951936741132\n",
      "3.0000010464082294\n",
      "0.7526503830538591\n"
     ]
    }
   ],
   "source": [
    "w = list()\n",
    "for i in range(len(e)):\n",
    "    w.append(eig['e'][i] / eig['e'].sum())\n",
    "print(w)\n",
    "#计算特征值的累计贡献率\n",
    "q = list()\n",
    "for j in range(len(e)):\n",
    "    q.append(eig['e'][:j].sum() / eig['e'].sum())\n",
    "print(q)\n",
    "# 求公因子个数m,使用前m个特征值的比重大于80%的标准，选出了公共因子,根据累计贡献率得出\n",
    "for m in range(len(e)):\n",
    "    print(eig['e'][:m].sum())\n",
    "    print(eig['e'].sum())\n",
    "    print(eig['e'][:m].sum() / eig['e'].sum())\n",
    "    if eig['e'][:m].sum() / eig['e'].sum() >= 0.8:\n",
    "        print(\"\\n主成分个数:\", m)\n",
    "        break"
   ]
  },
  {
   "cell_type": "code",
   "execution_count": 51,
   "metadata": {},
   "outputs": [],
   "source": [
    "fa = FactorAnalyzer(n_factors=2, rotation='varimax')"
   ]
  },
  {
   "cell_type": "code",
   "execution_count": 52,
   "metadata": {},
   "outputs": [
    {
     "data": {
      "text/plain": [
       "FactorAnalyzer(n_factors=2, rotation='varimax', rotation_kwargs={})"
      ]
     },
     "execution_count": 52,
     "metadata": {},
     "output_type": "execute_result"
    }
   ],
   "source": [
    "fa.fit(df)"
   ]
  },
  {
   "cell_type": "code",
   "execution_count": 53,
   "metadata": {},
   "outputs": [
    {
     "data": {
      "text/html": [
       "<div>\n",
       "<style scoped>\n",
       "    .dataframe tbody tr th:only-of-type {\n",
       "        vertical-align: middle;\n",
       "    }\n",
       "\n",
       "    .dataframe tbody tr th {\n",
       "        vertical-align: top;\n",
       "    }\n",
       "\n",
       "    .dataframe thead th {\n",
       "        text-align: right;\n",
       "    }\n",
       "</style>\n",
       "<table border=\"1\" class=\"dataframe\">\n",
       "  <thead>\n",
       "    <tr style=\"text-align: right;\">\n",
       "      <th></th>\n",
       "      <th>0</th>\n",
       "      <th>1</th>\n",
       "    </tr>\n",
       "  </thead>\n",
       "  <tbody>\n",
       "    <tr>\n",
       "      <th>0</th>\n",
       "      <td>0.493187</td>\n",
       "      <td>0.167443</td>\n",
       "    </tr>\n",
       "    <tr>\n",
       "      <th>1</th>\n",
       "      <td>0.021528</td>\n",
       "      <td>0.145415</td>\n",
       "    </tr>\n",
       "    <tr>\n",
       "      <th>2</th>\n",
       "      <td>-0.514235</td>\n",
       "      <td>-0.020814</td>\n",
       "    </tr>\n",
       "  </tbody>\n",
       "</table>\n",
       "</div>"
      ],
      "text/plain": [
       "          0         1\n",
       "0  0.493187  0.167443\n",
       "1  0.021528  0.145415\n",
       "2 -0.514235 -0.020814"
      ]
     },
     "execution_count": 53,
     "metadata": {},
     "output_type": "execute_result"
    }
   ],
   "source": [
    "pd.DataFrame(fa.loadings_)"
   ]
  },
  {
   "cell_type": "code",
   "execution_count": 54,
   "metadata": {},
   "outputs": [
    {
     "name": "stdout",
     "output_type": "stream",
     "text": [
      "[0.50813459 0.04961581]\n",
      "[0.1693782 0.0165386]\n",
      "[0.1693782 0.1859168]\n"
     ]
    }
   ],
   "source": [
    "var = fa.get_factor_variance()  \n",
    "for i in range(0,3):\n",
    "    print(var[i])"
   ]
  },
  {
   "cell_type": "code",
   "execution_count": 55,
   "metadata": {},
   "outputs": [
    {
     "data": {
      "text/plain": [
       "array([0.27127077, 0.02160891, 0.26487072])"
      ]
     },
     "execution_count": 55,
     "metadata": {},
     "output_type": "execute_result"
    }
   ],
   "source": [
    "fa.get_communalities()\n"
   ]
  },
  {
   "cell_type": "code",
   "execution_count": 57,
   "metadata": {},
   "outputs": [
    {
     "data": {
      "text/plain": [
       "matrix([[ 0.95143511,  0.14453479],\n",
       "        [-0.49229491, -0.17221011],\n",
       "        [-0.0603925 , -0.02557409],\n",
       "        ...,\n",
       "        [ 0.80341231,  0.26769796],\n",
       "        [ 0.95143511,  0.14453479],\n",
       "        [-0.0603925 , -0.02557409]])"
      ]
     },
     "execution_count": 57,
     "metadata": {},
     "output_type": "execute_result"
    }
   ],
   "source": [
    "fa_t_score = np.dot(np.mat(df_zs), np.mat(fa.loadings_))\n",
    "fa_t_score"
   ]
  },
  {
   "cell_type": "code",
   "execution_count": 58,
   "metadata": {},
   "outputs": [],
   "source": [
    "weight = var[1]     \n",
    "fa_t_score_final = (np.dot(fa_t_score, weight) / e.sum()).real\n"
   ]
  },
  {
   "cell_type": "code",
   "execution_count": 59,
   "metadata": {},
   "outputs": [
    {
     "data": {
      "text/plain": [
       "matrix([[ 0.05451424, -0.02874404, -0.00355071, ...,  0.04683594,\n",
       "          0.05451424, -0.00355071]])"
      ]
     },
     "execution_count": 59,
     "metadata": {},
     "output_type": "execute_result"
    }
   ],
   "source": [
    "fa_t_score_final"
   ]
  },
  {
   "cell_type": "code",
   "execution_count": null,
   "metadata": {},
   "outputs": [],
   "source": []
  }
 ],
 "metadata": {
  "kernelspec": {
   "display_name": "Python 3",
   "language": "python",
   "name": "python3"
  },
  "language_info": {
   "codemirror_mode": {
    "name": "ipython",
    "version": 3
   },
   "file_extension": ".py",
   "mimetype": "text/x-python",
   "name": "python",
   "nbconvert_exporter": "python",
   "pygments_lexer": "ipython3",
   "version": "3.8.5"
  }
 },
 "nbformat": 4,
 "nbformat_minor": 4
}
